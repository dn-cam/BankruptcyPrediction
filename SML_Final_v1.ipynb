{
  "nbformat": 4,
  "nbformat_minor": 0,
  "metadata": {
    "colab": {
      "name": "SML Final v1.ipynb",
      "provenance": [],
      "collapsed_sections": []
    },
    "language_info": {
      "codemirror_mode": {
        "name": "ipython",
        "version": 2
      },
      "file_extension": ".py",
      "mimetype": "text/x-python",
      "name": "python",
      "nbconvert_exporter": "python",
      "pygments_lexer": "ipython2",
      "version": "2.7.15"
    },
    "kernelspec": {
      "display_name": "Python 2",
      "language": "python",
      "name": "python2"
    }
  },
  "cells": [
    {
      "cell_type": "code",
      "metadata": {
        "id": "GbpfyVRAUJa7",
        "colab_type": "code",
        "colab": {}
      },
      "source": [
        "import numpy as np\n",
        "import pandas as pd\n",
        "import seaborn as sns\n",
        "import matplotlib.pyplot as plt\n",
        "# Library imbalanced-learn to deal with the data imbalance. To use SMOTE oversampling\n",
        "from imblearn.over_sampling import SMOTE \n",
        "from sklearn.preprocessing import Imputer\n",
        "from sklearn.model_selection import train_test_split\n",
        "from sklearn.linear_model import LogisticRegression\n",
        "from sklearn.metrics import log_loss,confusion_matrix,classification_report,roc_curve,auc\n",
        "from sklearn.metrics import precision_recall_curve"
      ],
      "execution_count": 0,
      "outputs": []
    },
    {
      "cell_type": "markdown",
      "metadata": {
        "id": "NklomgxTUJbA",
        "colab_type": "text"
      },
      "source": [
        "## Reading CSV Files"
      ]
    },
    {
      "cell_type": "code",
      "metadata": {
        "id": "uBhrkJpfUJbA",
        "colab_type": "code",
        "outputId": "ebe2ce99-d1fc-4338-e69d-4a7aa2d1b6f5",
        "colab": {}
      },
      "source": [
        "year1 = pd.read_csv(\"1year.csv\")\n",
        "year2 = pd.read_csv(\"2year.csv\")\n",
        "year3 = pd.read_csv(\"3year.csv\")\n",
        "year4 = pd.read_csv(\"4year.csv\")\n",
        "year5 = pd.read_csv(\"5year.csv\")"
      ],
      "execution_count": 0,
      "outputs": [
        {
          "output_type": "stream",
          "text": [
            "/usr/local/Cellar/ipython@5/5.6.0/libexec/lib/python2.7/site-packages/IPython/core/interactiveshell.py:2714: DtypeWarning: Columns (1,2,3,6,7,9,10,11,14,18,22,24,25,29,35,36,38,48,51,55,57,59) have mixed types. Specify dtype option on import or set low_memory=False.\n",
            "  interactivity=interactivity, compiler=compiler, result=result)\n",
            "/usr/local/Cellar/ipython@5/5.6.0/libexec/lib/python2.7/site-packages/IPython/core/interactiveshell.py:2714: DtypeWarning: Columns (15,24) have mixed types. Specify dtype option on import or set low_memory=False.\n",
            "  interactivity=interactivity, compiler=compiler, result=result)\n",
            "/usr/local/Cellar/ipython@5/5.6.0/libexec/lib/python2.7/site-packages/IPython/core/interactiveshell.py:2714: DtypeWarning: Columns (1,2,3,6,7,8,10,11,14,15,16,17,18,22,24,25,26,29,34,35,36,38,48,50,51,57,59) have mixed types. Specify dtype option on import or set low_memory=False.\n",
            "  interactivity=interactivity, compiler=compiler, result=result)\n"
          ],
          "name": "stderr"
        }
      ]
    },
    {
      "cell_type": "markdown",
      "metadata": {
        "id": "cO8dAId7UJbG",
        "colab_type": "text"
      },
      "source": [
        "### Data Pre-processing"
      ]
    },
    {
      "cell_type": "markdown",
      "metadata": {
        "id": "sz2O1UDuUJbG",
        "colab_type": "text"
      },
      "source": [
        "#### Removing '?'"
      ]
    },
    {
      "cell_type": "code",
      "metadata": {
        "id": "RFBMQ6w-UJbH",
        "colab_type": "code",
        "colab": {}
      },
      "source": [
        "years = [year1, year2, year3, year4, year5]\n",
        "for i in range(len(years)):\n",
        "    years[i] = years[i].replace('?', np.nan)"
      ],
      "execution_count": 0,
      "outputs": []
    },
    {
      "cell_type": "markdown",
      "metadata": {
        "id": "3ll2LmHYUJbK",
        "colab_type": "text"
      },
      "source": [
        "#### Converting data types of each columns accordingly"
      ]
    },
    {
      "cell_type": "code",
      "metadata": {
        "id": "6KhiyD11UJbK",
        "colab_type": "code",
        "colab": {}
      },
      "source": [
        "def convert_columns_type_float(dfs):\n",
        "    for i in range(5):\n",
        "        index = 1\n",
        "        while(index<=64):\n",
        "            colname = dfs[i].columns[index]\n",
        "            col = getattr(dfs[i], colname)\n",
        "            dfs[i][colname] = col.astype('float')\n",
        "            index+=1\n",
        "        colname = dfs[i].columns[65]\n",
        "        col = getattr(dfs[i], colname)\n",
        "        dfs[i][colname] = col.astype('category')       \n",
        "    return dfs\n",
        "            \n",
        "years = convert_columns_type_float(years)"
      ],
      "execution_count": 0,
      "outputs": []
    },
    {
      "cell_type": "markdown",
      "metadata": {
        "id": "9rImAtNRUJbN",
        "colab_type": "text"
      },
      "source": [
        "#### Handling Missing Values with Mean Imputation"
      ]
    },
    {
      "cell_type": "code",
      "metadata": {
        "id": "EnjT1ffjUJbN",
        "colab_type": "code",
        "outputId": "e797fc79-2a5d-4c09-aa75-fd7a569a7d13",
        "colab": {}
      },
      "source": [
        "def perform_mean_imputation(dfs):\n",
        "    # Construct an imputer with strategy as 'mean', to mean-impute along the columns\n",
        "    imputer = Imputer(missing_values= np.nan, strategy='mean', axis=0)\n",
        "    mean_imputed_dfs = [pd.DataFrame(imputer.fit_transform(df)) for df in dfs]\n",
        "    for i in range(len(dfs)):\n",
        "        mean_imputed_dfs[i].columns = dfs[i].columns   \n",
        "    return mean_imputed_dfs\n",
        "\n",
        "years = perform_mean_imputation(years)"
      ],
      "execution_count": 0,
      "outputs": [
        {
          "output_type": "stream",
          "text": [
            "/usr/local/lib/python2.7/site-packages/sklearn/utils/deprecation.py:58: DeprecationWarning: Class Imputer is deprecated; Imputer was deprecated in version 0.20 and will be removed in 0.22. Import impute.SimpleImputer from sklearn instead.\n",
            "  warnings.warn(msg, category=DeprecationWarning)\n"
          ],
          "name": "stderr"
        }
      ]
    },
    {
      "cell_type": "code",
      "metadata": {
        "id": "qrgq-fFhUJbR",
        "colab_type": "code",
        "outputId": "56974d8e-9d2d-4b2c-9a25-5e8a39c1961f",
        "colab": {}
      },
      "source": [
        "for i in range(5):\n",
        "    print(years[i].isnull().values.any())"
      ],
      "execution_count": 0,
      "outputs": [
        {
          "output_type": "stream",
          "text": [
            "False\n",
            "False\n",
            "False\n",
            "False\n",
            "False\n"
          ],
          "name": "stdout"
        }
      ]
    },
    {
      "cell_type": "markdown",
      "metadata": {
        "id": "dzz8AcZqUJbU",
        "colab_type": "text"
      },
      "source": [
        "### Train Test Validation Split"
      ]
    },
    {
      "cell_type": "code",
      "metadata": {
        "id": "O0_AXSTEUJbV",
        "colab_type": "code",
        "colab": {}
      },
      "source": [
        "import sklearn \n",
        "from sklearn import model_selection\n",
        "\n",
        "year1_train, year1_test = model_selection.train_test_split(years[0], test_size = 0.20)\n",
        "year1_train, year1_valid = model_selection.train_test_split(year1_train, test_size = 0.20)\n",
        "\n",
        "year2_train, year2_test = model_selection.train_test_split(years[1], test_size = 0.20)\n",
        "year2_train, year2_valid = model_selection.train_test_split(year2_train, test_size = 0.20)\n",
        "\n",
        "year3_train, year3_test = model_selection.train_test_split(years[2], test_size = 0.20)\n",
        "year3_train, year3_valid = model_selection.train_test_split(year3_train, test_size = 0.20)\n",
        "\n",
        "year4_train, year4_test = model_selection.train_test_split(years[3], test_size = 0.20)\n",
        "year4_train, year4_valid = model_selection.train_test_split(year4_train, test_size = 0.20)\n",
        "\n",
        "year5_train, year5_test = model_selection.train_test_split(years[4], test_size = 0.20)\n",
        "year5_train, year5_valid = model_selection.train_test_split(year5_train, test_size = 0.20)"
      ],
      "execution_count": 0,
      "outputs": []
    },
    {
      "cell_type": "code",
      "metadata": {
        "id": "o2NhBQkrUJbX",
        "colab_type": "code",
        "colab": {}
      },
      "source": [
        "year1_train_ = year1_train.drop(['id'], axis = 1)\n",
        "year1_train_ = pd.DataFrame(year1_train_)\n",
        "year_1_target = year1_train_['class']\n",
        "year_1_sans_target = year1_train_.drop(['class'], axis = 1)\n",
        "\n",
        "year2_train_ = year2_train.drop(['id'], axis = 1)\n",
        "year2_train_ = pd.DataFrame(year2_train_)\n",
        "year_2_target = year2_train_['class']\n",
        "year_2_sans_target = year2_train_.drop(['class'], axis = 1)\n",
        "\n",
        "year3_train_ = year3_train.drop(['id'], axis = 1)\n",
        "year3_train_ = pd.DataFrame(year3_train_)\n",
        "year_3_target = year3_train_['class']\n",
        "year_3_sans_target = year3_train_.drop(['class'], axis = 1)\n",
        "\n",
        "year4_train_ = year4_train.drop(['id'], axis = 1)\n",
        "year4_train_ = pd.DataFrame(year4_train_)\n",
        "year_4_target = year4_train_['class']\n",
        "year_4_sans_target = year4_train_.drop(['class'], axis = 1)\n",
        "\n",
        "\n",
        "year5_train_ = year5_train.drop(['id'], axis = 1)\n",
        "year5_train_ = pd.DataFrame(year5_train_)\n",
        "year_5_target = year5_train_['class']\n",
        "year_5_sans_target = year5_train_.drop(['class'], axis = 1)"
      ],
      "execution_count": 0,
      "outputs": []
    },
    {
      "cell_type": "code",
      "metadata": {
        "id": "EYL47gekUJba",
        "colab_type": "code",
        "colab": {}
      },
      "source": [
        "year1_test_ = year1_test.drop(['id'], axis = 1)\n",
        "year1_test_ = pd.DataFrame(year1_test_)\n",
        "year_1_test_target = year1_test_['class']\n",
        "year_1_test_sans_target = year1_test_.drop(['class'], axis = 1)\n",
        "\n",
        "year2_test_ = year2_test.drop(['id'], axis = 1)\n",
        "year2_test_ = pd.DataFrame(year2_test_)\n",
        "year_2_test_target = year2_test_['class']\n",
        "year_2_test_sans_target = year2_test_.drop(['class'], axis = 1)\n",
        "\n",
        "year3_test_ = year3_test.drop(['id'], axis = 1)\n",
        "year3_test_ = pd.DataFrame(year3_test_)\n",
        "year_3_test_target = year3_test_['class']\n",
        "year_3_test_sans_target = year3_test_.drop(['class'], axis = 1)\n",
        "\n",
        "year4_test_ = year4_test.drop(['id'], axis = 1)\n",
        "year4_test_ = pd.DataFrame(year1_test_)\n",
        "year_4_test_target = year4_test_['class']\n",
        "year_4_test_sans_target = year4_test_.drop(['class'], axis = 1)\n",
        "\n",
        "year5_test_ = year5_test.drop(['id'], axis = 1)\n",
        "year5_test_ = pd.DataFrame(year5_test_)\n",
        "year_5_test_target = year5_test_['class']\n",
        "year_5_test_sans_target = year5_test_.drop(['class'], axis = 1)\n",
        "\n"
      ],
      "execution_count": 0,
      "outputs": []
    },
    {
      "cell_type": "code",
      "metadata": {
        "id": "nJXXdkPUUJbc",
        "colab_type": "code",
        "colab": {}
      },
      "source": [
        "def correlationPairs(df):\n",
        "    corr_matrix = year_1_sans_target.corr().abs()\n",
        "    #the matrix is symmetric so we need to extract upper triangle matrix without diagonal (k = 1)\n",
        "    sol = (corr_matrix.where(np.triu(np.ones(corr_matrix.shape), k=1).astype(np.bool))\n",
        "                 .stack()\n",
        "                 .sort_values(ascending=False))\n",
        "    correlationSet = []\n",
        "    for i in range(100):\n",
        "        correlationSet1.append(sol[[i]])\n",
        "    return correlationSet   \n"
      ],
      "execution_count": 0,
      "outputs": []
    },
    {
      "cell_type": "code",
      "metadata": {
        "id": "oCPowKCRUJbe",
        "colab_type": "code",
        "colab": {}
      },
      "source": [
        "corr_matrix1 = year_1_sans_target.corr().abs()\n",
        "corr_matrix2 = year_2_sans_target.corr().abs()\n",
        "corr_matrix3 = year_3_sans_target.corr().abs()\n",
        "corr_matrix4 = year_4_sans_target.corr().abs()\n",
        "corr_matrix5 = year_5_sans_target.corr().abs()"
      ],
      "execution_count": 0,
      "outputs": []
    },
    {
      "cell_type": "code",
      "metadata": {
        "id": "B6kySACHUJbh",
        "colab_type": "code",
        "colab": {}
      },
      "source": [
        "sol1 = (corr_matrix1.where(np.triu(np.ones(corr_matrix1.shape), k=1).astype(np.bool)).stack().sort_values(ascending=False))\n",
        "sol2 = (corr_matrix2.where(np.triu(np.ones(corr_matrix2.shape), k=1).astype(np.bool)).stack().sort_values(ascending=False))\n",
        "\n",
        "sol3 = (corr_matrix3.where(np.triu(np.ones(corr_matrix3.shape), k=1).astype(np.bool)).stack().sort_values(ascending=False))\n",
        "\n",
        "sol4 = (corr_matrix4.where(np.triu(np.ones(corr_matrix4.shape), k=1).astype(np.bool)).stack().sort_values(ascending=False))\n",
        "\n",
        "sol5 = (corr_matrix5.where(np.triu(np.ones(corr_matrix5.shape), k=1).astype(np.bool)).stack().sort_values(ascending=False))\n",
        "\n"
      ],
      "execution_count": 0,
      "outputs": []
    },
    {
      "cell_type": "code",
      "metadata": {
        "id": "nNtPv18WUJbl",
        "colab_type": "code",
        "outputId": "bfdd3afd-302c-47cb-e785-6ac1b29b161c",
        "colab": {}
      },
      "source": [
        "correlationSet5 = []\n",
        "for i in range(len(sol5)):\n",
        "    correlationSet5.append(sol5[[i]])\n",
        "correlationSet5"
      ],
      "execution_count": 0,
      "outputs": [
        {
          "output_type": "execute_result",
          "data": {
            "text/plain": [
              "[Attr7  Attr14    1.0\n",
              " dtype: float64, Attr14  Attr18    1.0\n",
              " dtype: float64, Attr7  Attr18    1.0\n",
              " dtype: float64, Attr1  Attr18    0.999989\n",
              " dtype: float64, Attr1  Attr14    0.999989\n",
              " dtype: float64, Attr1  Attr7    0.999989\n",
              " dtype: float64, Attr8  Attr17    0.99998\n",
              " dtype: float64, Attr11  Attr18    0.999979\n",
              " dtype: float64, Attr11  Attr14    0.999979\n",
              " dtype: float64, Attr7  Attr11    0.999979\n",
              " dtype: float64, Attr1  Attr11    0.99997\n",
              " dtype: float64, Attr16  Attr26    0.999963\n",
              " dtype: float64, Attr45  Attr60    0.999957\n",
              " dtype: float64, Attr19  Attr23    0.999934\n",
              " dtype: float64, Attr22  Attr35    0.999865\n",
              " dtype: float64, Attr4  Attr46    0.999851\n",
              " dtype: float64, Attr13  Attr19    0.999758\n",
              " dtype: float64, Attr13  Attr23    0.999692\n",
              " dtype: float64, Attr22  Attr48    0.999633\n",
              " dtype: float64, Attr35  Attr48    0.999553\n",
              " dtype: float64, Attr42  Attr49    0.999034\n",
              " dtype: float64, Attr10  Attr38    0.998613\n",
              " dtype: float64, Attr33  Attr63    0.998094\n",
              " dtype: float64, Attr4  Attr40    0.997375\n",
              " dtype: float64, Attr18  Attr22    0.997275\n",
              " dtype: float64, Attr14  Attr22    0.997275\n",
              " dtype: float64, Attr7  Attr22    0.997275\n",
              " dtype: float64, Attr1  Attr22    0.997269\n",
              " dtype: float64, Attr11  Attr22    0.997269\n",
              " dtype: float64, Attr11  Attr35    0.99716\n",
              " dtype: float64, Attr18  Attr35    0.997137\n",
              " dtype: float64, Attr14  Attr35    0.997137\n",
              " dtype: float64, Attr7  Attr35    0.997137\n",
              " dtype: float64, Attr1  Attr35    0.997132\n",
              " dtype: float64, Attr40  Attr46    0.997077\n",
              " dtype: float64, Attr11  Attr48    0.997073\n",
              " dtype: float64, Attr1  Attr48    0.997058\n",
              " dtype: float64, Attr18  Attr48    0.997057\n",
              " dtype: float64, Attr14  Attr48    0.997057\n",
              " dtype: float64, Attr7  Attr48    0.997057\n",
              " dtype: float64, Attr4  Attr50    0.996091\n",
              " dtype: float64, Attr46  Attr50    0.99603\n",
              " dtype: float64, Attr10  Attr25    0.99368\n",
              " dtype: float64, Attr25  Attr38    0.992244\n",
              " dtype: float64, Attr34  Attr50    0.990301\n",
              " dtype: float64, Attr40  Attr50    0.98945\n",
              " dtype: float64, Attr16  Attr34    0.98756\n",
              " dtype: float64, Attr34  Attr46    0.986992\n",
              " dtype: float64, Attr4  Attr34    0.986743\n",
              " dtype: float64, Attr26  Attr34    0.986542\n",
              " dtype: float64, Attr19  Attr31    0.986418\n",
              " dtype: float64, Attr23  Attr31    0.986108\n",
              " dtype: float64, Attr13  Attr31    0.985912\n",
              " dtype: float64, Attr43  Attr44    0.984001\n",
              " dtype: float64, Attr1  Attr36    0.983987\n",
              " dtype: float64, Attr18  Attr36    0.983916\n",
              " dtype: float64, Attr14  Attr36    0.983916\n",
              " dtype: float64, Attr7  Attr36    0.983916\n",
              " dtype: float64, Attr11  Attr36    0.983864\n",
              " dtype: float64, Attr2  Attr51    0.982736\n",
              " dtype: float64, Attr33  Attr34    0.982489\n",
              " dtype: float64, Attr36  Attr48    0.981871\n",
              " dtype: float64, Attr16  Attr50    0.9817\n",
              " dtype: float64, Attr34  Attr63    0.981198\n",
              " dtype: float64, Attr22  Attr36    0.980701\n",
              " dtype: float64, Attr26  Attr50    0.980699\n",
              " dtype: float64, Attr35  Attr36    0.980493\n",
              " dtype: float64, Attr34  Attr40    0.980018\n",
              " dtype: float64, Attr16  Attr46    0.978787\n",
              " dtype: float64, Attr26  Attr46    0.977825\n",
              " dtype: float64, Attr4  Attr16    0.977815\n",
              " dtype: float64, Attr4  Attr26    0.976826\n",
              " dtype: float64, Attr53  Attr64    0.974567\n",
              " dtype: float64, Attr16  Attr63    0.974292\n",
              " dtype: float64, Attr46  Attr63    0.973874\n",
              " dtype: float64, Attr4  Attr63    0.973734\n",
              " dtype: float64, Attr26  Attr63    0.97359\n",
              " dtype: float64, Attr33  Attr46    0.97342\n",
              " dtype: float64, Attr4  Attr33    0.973292\n",
              " dtype: float64, Attr6  Attr24    0.973068\n",
              " dtype: float64, Attr50  Attr63    0.970731\n",
              " dtype: float64, Attr33  Attr50    0.970465\n",
              " dtype: float64, Attr53  Attr54    0.97023\n",
              " dtype: float64, Attr16  Attr40    0.969625\n",
              " dtype: float64, Attr40  Attr63    0.96912\n",
              " dtype: float64, Attr26  Attr40    0.968577\n",
              " dtype: float64, Attr33  Attr40    0.968561\n",
              " dtype: float64, Attr16  Attr33    0.967391\n",
              " dtype: float64, Attr26  Attr33    0.96636\n",
              " dtype: float64, Attr30  Attr62    0.962589\n",
              " dtype: float64, Attr54  Attr64    0.949852\n",
              " dtype: float64, Attr28  Attr64    0.94801\n",
              " dtype: float64, Attr18  Attr24    0.94609\n",
              " dtype: float64, Attr14  Attr24    0.94609\n",
              " dtype: float64, Attr7  Attr24    0.94609\n",
              " dtype: float64, Attr1  Attr24    0.946022\n",
              " dtype: float64, Attr11  Attr24    0.945956\n",
              " dtype: float64, Attr38  Attr48    0.945488\n",
              " dtype: float64, Attr35  Attr38    0.945198\n",
              " dtype: float64, Attr10  Attr48    0.944493\n",
              " dtype: float64, Attr10  Attr35    0.944172\n",
              " dtype: float64, Attr22  Attr38    0.944016\n",
              " dtype: float64, Attr22  Attr24    0.943426\n",
              " dtype: float64, Attr24  Attr35    0.94303\n",
              " dtype: float64, Attr10  Attr22    0.942994\n",
              " dtype: float64, Attr24  Attr48    0.942863\n",
              " dtype: float64, Attr39  Attr56    0.941798\n",
              " dtype: float64, Attr12  Attr40    0.941697\n",
              " dtype: float64, Attr6  Attr18    0.940529\n",
              " dtype: float64, Attr6  Attr14    0.940529\n",
              " dtype: float64, Attr6  Attr7    0.940529\n",
              " dtype: float64, Attr1  Attr6    0.940518\n",
              " dtype: float64, Attr6  Attr11    0.940298\n",
              " dtype: float64, Attr47  Attr52    0.939932\n",
              " dtype: float64, Attr36  Attr38    0.939925\n",
              " dtype: float64, Attr10  Attr36    0.93944\n",
              " dtype: float64, Attr28  Attr54    0.938094\n",
              " dtype: float64, Attr6  Attr22    0.937883\n",
              " dtype: float64, Attr6  Attr48    0.937379\n",
              " dtype: float64, Attr6  Attr35    0.937261\n",
              " dtype: float64, Attr12  Attr46    0.932891\n",
              " dtype: float64, Attr4  Attr12    0.931932\n",
              " dtype: float64, Attr24  Attr36    0.930397\n",
              " dtype: float64, Attr25  Attr48    0.927808\n",
              " dtype: float64, Attr25  Attr35    0.927747\n",
              " dtype: float64, Attr11  Attr38    0.927463\n",
              " dtype: float64, Attr1  Attr38    0.927064\n",
              " dtype: float64, Attr7  Attr38    0.92694\n",
              " dtype: float64, Attr14  Attr38    0.92694\n",
              " dtype: float64, Attr18  Attr38    0.92694\n",
              " dtype: float64, Attr6  Attr36    0.926766\n",
              " dtype: float64, Attr10  Attr11    0.926472\n",
              " dtype: float64, Attr1  Attr10    0.926022\n",
              " dtype: float64, Attr7  Attr10    0.925886\n",
              " dtype: float64, Attr10  Attr14    0.925886\n",
              " dtype: float64, Attr10  Attr18    0.925886\n",
              " dtype: float64, Attr22  Attr25    0.925741\n",
              " dtype: float64, Attr25  Attr36    0.921263\n",
              " dtype: float64, Attr12  Attr16    0.919879\n",
              " dtype: float64, Attr12  Attr26    0.919685\n",
              " dtype: float64, Attr3  Attr51    0.914977\n",
              " dtype: float64, Attr12  Attr34    0.910372\n",
              " dtype: float64, Attr11  Attr25    0.909761\n",
              " dtype: float64, Attr8  Attr50    0.909274\n",
              " dtype: float64, Attr17  Attr50    0.909257\n",
              " dtype: float64, Attr1  Attr25    0.908978\n",
              " dtype: float64, Attr18  Attr25    0.908829\n",
              " dtype: float64, Attr14  Attr25    0.908829\n",
              " dtype: float64, Attr7  Attr25    0.908829\n",
              " dtype: float64, Attr2  Attr3    0.906749\n",
              " dtype: float64, Attr4  Attr8    0.906177\n",
              " dtype: float64, Attr8  Attr46    0.906168\n",
              " dtype: float64, Attr4  Attr17    0.906158\n",
              " dtype: float64, Attr17  Attr46    0.906148\n",
              " dtype: float64, Attr12  Attr50    0.904689\n",
              " dtype: float64, Attr28  Attr53    0.903041\n",
              " dtype: float64, Attr12  Attr63    0.899021\n",
              " dtype: float64, Attr17  Attr40    0.897997\n",
              " dtype: float64, Attr8  Attr40    0.897996\n",
              " dtype: float64, Attr12  Attr33    0.893722\n",
              " dtype: float64, Attr8  Attr34    0.883602\n",
              " dtype: float64, Attr17  Attr34    0.883528\n",
              " dtype: float64, Attr8  Attr16    0.876307\n",
              " dtype: float64, Attr16  Attr17    0.876257\n",
              " dtype: float64, Attr8  Attr26    0.875298\n",
              " dtype: float64, Attr17  Attr26    0.875246\n",
              " dtype: float64, Attr24  Attr38    0.872566\n",
              " dtype: float64, Attr10  Attr24    0.870573\n",
              " dtype: float64, Attr8  Attr63    0.86638\n",
              " dtype: float64, Attr17  Attr63    0.866327\n",
              " dtype: float64, Attr8  Attr33    0.865988\n",
              " dtype: float64, Attr17  Attr33    0.865937\n",
              " dtype: float64, Attr6  Attr38    0.863056\n",
              " dtype: float64, Attr6  Attr10    0.860707\n",
              " dtype: float64, Attr24  Attr25    0.851351\n",
              " dtype: float64, Attr6  Attr25    0.837005\n",
              " dtype: float64, Attr39  Attr58    0.83692\n",
              " dtype: float64, Attr56  Attr58    0.836347\n",
              " dtype: float64, Attr8  Attr12    0.807503\n",
              " dtype: float64, Attr12  Attr17    0.80745\n",
              " dtype: float64, Attr42  Attr44    0.751485\n",
              " dtype: float64, Attr44  Attr49    0.750981\n",
              " dtype: float64, Attr30  Attr44    0.722073\n",
              " dtype: float64, Attr19  Attr42    0.707576\n",
              " dtype: float64, Attr43  Attr49    0.706522\n",
              " dtype: float64, Attr42  Attr43    0.704369\n",
              " dtype: float64, Attr23  Attr42    0.703586\n",
              " dtype: float64, Attr19  Attr49    0.703509\n",
              " dtype: float64, Attr13  Attr42    0.700962\n",
              " dtype: float64, Attr23  Attr49    0.699614\n",
              " dtype: float64, Attr13  Attr49    0.695996\n",
              " dtype: float64, Attr31  Attr42    0.691036\n",
              " dtype: float64, Attr31  Attr49    0.687773\n",
              " dtype: float64, Attr30  Attr42    0.678564\n",
              " dtype: float64, Attr30  Attr43    0.673158\n",
              " dtype: float64, Attr30  Attr49    0.672571\n",
              " dtype: float64, Attr42  Attr58    0.642299\n",
              " dtype: float64, Attr49  Attr58    0.640089\n",
              " dtype: float64, Attr44  Attr62    0.604182\n",
              " dtype: float64, Attr43  Attr62    0.566613\n",
              " dtype: float64, Attr19  Attr44    0.549066\n",
              " dtype: float64, Attr23  Attr44    0.545679\n",
              " dtype: float64, Attr13  Attr44    0.544095\n",
              " dtype: float64, Attr19  Attr30    0.540727\n",
              " dtype: float64, Attr13  Attr30    0.539038\n",
              " dtype: float64, Attr23  Attr30    0.53891\n",
              " dtype: float64, Attr19  Attr43    0.511944\n",
              " dtype: float64, Attr23  Attr43    0.508854\n",
              " dtype: float64, Attr13  Attr43    0.506065\n",
              " dtype: float64, Attr31  Attr44    0.502412\n",
              " dtype: float64, Attr42  Attr62    0.483436\n",
              " dtype: float64, Attr20  Attr43    0.482245\n",
              " dtype: float64, Attr49  Attr62    0.475123\n",
              " dtype: float64, Attr31  Attr43    0.46837\n",
              " dtype: float64, Attr32  Attr62    0.454995\n",
              " dtype: float64, Attr31  Attr58    0.441533\n",
              " dtype: float64, Attr19  Attr58    0.440924\n",
              " dtype: float64, Attr23  Attr58    0.439871\n",
              " dtype: float64, Attr13  Attr58    0.437325\n",
              " dtype: float64, Attr13  Attr62    0.436759\n",
              " dtype: float64, Attr19  Attr62    0.435816\n",
              " dtype: float64, Attr23  Attr62    0.435391\n",
              " dtype: float64, Attr44  Attr58    0.415373\n",
              " dtype: float64, Attr30  Attr31    0.413651\n",
              " dtype: float64, Attr30  Attr32    0.41241\n",
              " dtype: float64, Attr43  Attr58    0.406956\n",
              " dtype: float64, Attr30  Attr58    0.403227\n",
              " dtype: float64, Attr9  Attr29    0.393389\n",
              " dtype: float64, Attr39  Attr62    0.365988\n",
              " dtype: float64, Attr39  Attr42    0.362934\n",
              " dtype: float64, Attr39  Attr49    0.361552\n",
              " dtype: float64, Attr35  Attr53    0.352053\n",
              " dtype: float64, Attr48  Attr53    0.351671\n",
              " dtype: float64, Attr30  Attr39    0.351435\n",
              " dtype: float64, Attr22  Attr53    0.351394\n",
              " dtype: float64, Attr11  Attr53    0.350523\n",
              " dtype: float64, Attr1  Attr53    0.350434\n",
              " dtype: float64, Attr18  Attr53    0.350394\n",
              " dtype: float64, Attr14  Attr53    0.350394\n",
              " dtype: float64, Attr7  Attr53    0.350394\n",
              " dtype: float64, Attr36  Attr53    0.347736\n",
              " dtype: float64, Attr10  Attr53    0.342788\n",
              " dtype: float64, Attr35  Attr54    0.342691\n",
              " dtype: float64, Attr38  Attr53    0.342558\n",
              " dtype: float64, Attr48  Attr54    0.34229\n",
              " dtype: float64, Attr22  Attr54    0.342051\n",
              " dtype: float64, Attr11  Attr54    0.34119\n",
              " dtype: float64, Attr1  Attr54    0.341157\n",
              " dtype: float64, Attr18  Attr54    0.341121\n",
              " dtype: float64, Attr14  Attr54    0.341121\n",
              " dtype: float64, Attr7  Attr54    0.341121\n",
              " dtype: float64, Attr25  Attr53    0.341098\n",
              " dtype: float64, Attr36  Attr54    0.338047\n",
              " dtype: float64, Attr38  Attr54    0.333831\n",
              " dtype: float64, Attr10  Attr54    0.333169\n",
              " dtype: float64, Attr25  Attr54    0.331643\n",
              " dtype: float64, Attr24  Attr53    0.329783\n",
              " dtype: float64, Attr2  Attr25    0.32818\n",
              " dtype: float64, Attr6  Attr53    0.326726\n",
              " dtype: float64, Attr25  Attr51    0.322158\n",
              " dtype: float64, Attr24  Attr54    0.321133\n",
              " dtype: float64, Attr20  Attr44    0.31845\n",
              " dtype: float64, Attr6  Attr54    0.318046\n",
              " dtype: float64, Attr58  Attr62    0.311217\n",
              " dtype: float64, Attr3  Attr25    0.309799\n",
              " dtype: float64, Attr2  Attr10    0.302051\n",
              " dtype: float64, Attr42  Attr56    0.30156\n",
              " dtype: float64, Attr49  Attr56    0.299756\n",
              " dtype: float64, Attr38  Attr51    0.29755\n",
              " dtype: float64, Attr10  Attr51    0.295991\n",
              " dtype: float64, Attr2  Attr38    0.29411\n",
              " dtype: float64, Attr31  Attr62    0.290247\n",
              " dtype: float64, Attr3  Attr10    0.286531\n",
              " dtype: float64, Attr3  Attr38    0.285937\n",
              " dtype: float64, Attr39  Attr43    0.239213\n",
              " dtype: float64, Attr39  Attr44    0.23517\n",
              " dtype: float64, Attr29  Attr55    0.23091\n",
              " dtype: float64, Attr37  Attr55    0.230809\n",
              " dtype: float64, Attr9  Attr51    0.216616\n",
              " dtype: float64, Attr2  Attr9    0.202376\n",
              " dtype: float64, Attr23  Attr39    0.200674\n",
              " dtype: float64, Attr19  Attr39    0.199875\n",
              " dtype: float64, Attr13  Attr39    0.197614\n",
              " dtype: float64, Attr32  Attr44    0.192108\n",
              " dtype: float64, Attr36  Attr64    0.178683\n",
              " dtype: float64, Attr32  Attr43    0.178518\n",
              " dtype: float64, Attr48  Attr64    0.178315\n",
              " dtype: float64, Attr22  Attr64    0.178297\n",
              " dtype: float64, Attr35  Attr64    0.178236\n",
              " dtype: float64, Attr1  Attr64    0.178027\n",
              " dtype: float64, Attr18  Attr64    0.178008\n",
              " dtype: float64, Attr14  Attr64    0.178008\n",
              " dtype: float64, Attr7  Attr64    0.178008\n",
              " dtype: float64, Attr11  Attr64    0.177953\n",
              " dtype: float64, Attr30  Attr56    0.17573\n",
              " dtype: float64, Attr31  Attr39    0.171546\n",
              " dtype: float64, Attr10  Attr64    0.168453\n",
              " dtype: float64, Attr56  Attr62    0.168309\n",
              " dtype: float64, Attr38  Attr64    0.168174\n",
              " dtype: float64, Attr24  Attr64    0.168044\n",
              " dtype: float64, Attr6  Attr64    0.167738\n",
              " dtype: float64, Attr25  Attr64    0.165547\n",
              " dtype: float64, Attr43  Attr56    0.16418\n",
              " dtype: float64, Attr44  Attr56    0.15419\n",
              " dtype: float64, Attr9  Attr61    0.153215\n",
              " dtype: float64, Attr3  Attr9    0.149342\n",
              " dtype: float64, Attr31  Attr56    0.148947\n",
              " dtype: float64, Attr13  Attr32    0.143596\n",
              " dtype: float64, Attr23  Attr32    0.143445\n",
              " dtype: float64, Attr23  Attr56    0.142883\n",
              " dtype: float64, Attr19  Attr32    0.142833\n",
              " dtype: float64, Attr19  Attr56    0.142441\n",
              " dtype: float64, Attr13  Attr56    0.140712\n",
              " dtype: float64, Attr29  Attr61    0.133119\n",
              " dtype: float64, Attr20  Attr58    0.122854\n",
              " dtype: float64, Attr32  Attr42    0.121614\n",
              " dtype: float64, Attr32  Attr49    0.118794\n",
              " dtype: float64, Attr20  Attr39    0.116419\n",
              " dtype: float64, Attr20  Attr56    0.115379\n",
              " dtype: float64, Attr9  Attr25    0.11505\n",
              " dtype: float64, Attr15  Attr20    0.111219\n",
              " dtype: float64, Attr32  Attr39    0.099115\n",
              " dtype: float64, Attr2  Attr6    0.093984\n",
              " dtype: float64, Attr29  Attr36    0.093748\n",
              " dtype: float64, Attr29  Attr51    0.092432\n",
              " dtype: float64, Attr6  Attr51    0.09138\n",
              " dtype: float64, Attr3  Attr6    0.091142\n",
              " dtype: float64, Attr2  Attr29    0.089764\n",
              " dtype: float64, Attr9  Attr20    0.08957\n",
              " dtype: float64, Attr57  Attr59    0.088042\n",
              " dtype: float64, Attr3  Attr24    0.078542\n",
              " dtype: float64, Attr2  Attr24    0.078496\n",
              " dtype: float64, Attr3  Attr55    0.077771\n",
              " dtype: float64, Attr2  Attr55    0.07765\n",
              " dtype: float64, Attr6  Attr29    0.076785\n",
              " dtype: float64, Attr24  Attr51    0.076758\n",
              " dtype: float64, Attr51  Attr55    0.076193\n",
              " dtype: float64, Attr9  Attr43    0.074235\n",
              " dtype: float64, Attr32  Attr52    0.071681\n",
              " dtype: float64, Attr3  Attr18    0.07147\n",
              " dtype: float64, Attr3  Attr14    0.07147\n",
              " dtype: float64, Attr3  Attr7    0.07147\n",
              " dtype: float64, Attr1  Attr3    0.071148\n",
              " dtype: float64, Attr3  Attr11    0.070121\n",
              " dtype: float64, Attr18  Attr51    0.069578\n",
              " dtype: float64, Attr14  Attr51    0.069578\n",
              " dtype: float64, Attr7  Attr51    0.069578\n",
              " dtype: float64, Attr1  Attr51    0.069309\n",
              " dtype: float64, Attr9  Attr36    0.06911\n",
              " dtype: float64, Attr9  Attr38    0.068962\n",
              " dtype: float64, Attr11  Attr51    0.068107\n",
              " dtype: float64, Attr5  Attr41    0.068036\n",
              " dtype: float64, Attr2  Attr18    0.067862\n",
              " dtype: float64, Attr2  Attr14    0.067862\n",
              " dtype: float64, Attr2  Attr7    0.067862\n",
              " dtype: float64, Attr29  Attr37    0.067585\n",
              " dtype: float64, Attr1  Attr2    0.067549\n",
              " dtype: float64, Attr20  Attr49    0.066548\n",
              " dtype: float64, Attr31  Attr32    0.066289\n",
              " dtype: float64, Attr2  Attr11    0.066176\n",
              " dtype: float64, Attr24  Attr29    0.066094\n",
              " dtype: float64, Attr1  Attr29    0.065996\n",
              " dtype: float64, Attr18  Attr29    0.065898\n",
              " dtype: float64, Attr14  Attr29    0.065898\n",
              " dtype: float64, Attr7  Attr29    0.065898\n",
              " dtype: float64, Attr3  Attr62    0.065618\n",
              " dtype: float64, Attr9  Attr10    0.065307\n",
              " dtype: float64, Attr29  Attr35    0.065235\n",
              " dtype: float64, Attr11  Attr29    0.06472\n",
              " dtype: float64, Attr29  Attr48    0.064527\n",
              " dtype: float64, Attr22  Attr29    0.063833\n",
              " dtype: float64, Attr3  Attr30    0.063624\n",
              " dtype: float64, Attr2  Attr30    0.062583\n",
              " dtype: float64, Attr51  Attr62    0.062507\n",
              " dtype: float64, Attr9  Attr44    0.062112\n",
              " dtype: float64, Attr29  Attr39    0.062065\n",
              " dtype: float64, Attr21  Attr31    0.062014\n",
              " dtype: float64, Attr8  Attr39    0.061696\n",
              " dtype: float64, Attr17  Attr39    0.06163\n",
              " dtype: float64, Attr2  Attr62    0.060802\n",
              " dtype: float64, Attr13  Attr21    0.059488\n",
              " dtype: float64, Attr21  Attr23    0.05935\n",
              " dtype: float64, Attr3  Attr61    0.059167\n",
              " dtype: float64, Attr19  Attr21    0.058946\n",
              " dtype: float64, Attr12  Attr31    0.05841\n",
              " dtype: float64, Attr29  Attr56    0.057976\n",
              " dtype: float64, Attr51  Attr61    0.057679\n",
              " dtype: float64, Attr12  Attr13    0.056903\n",
              " dtype: float64, Attr12  Attr23    0.056756\n",
              " dtype: float64, Attr12  Attr19    0.056655\n",
              " dtype: float64, Attr3  Attr39    0.056006\n",
              " dtype: float64, Attr2  Attr58    0.055578\n",
              " dtype: float64, Attr2  Attr61    0.055348\n",
              " dtype: float64, Attr30  Attr51    0.055179\n",
              " dtype: float64, Attr2  Attr56    0.054237\n",
              " dtype: float64, Attr15  Attr43    0.05413\n",
              " dtype: float64, Attr32  Attr47    0.053217\n",
              " dtype: float64, Attr20  Attr42    0.052612\n",
              " dtype: float64, Attr3  Attr56    0.052372\n",
              " dtype: float64, Attr17  Attr21    0.052261\n",
              " dtype: float64, Attr8  Attr21    0.05225\n",
              " dtype: float64, Attr17  Attr58    0.051766\n",
              " dtype: float64, Attr8  Attr58    0.051573\n",
              " dtype: float64, Attr9  Attr58    0.050608\n",
              " dtype: float64, Attr3  Attr58    0.049716\n",
              " dtype: float64, Attr2  Attr39    0.049605\n",
              " dtype: float64, Attr29  Attr53    0.047887\n",
              " dtype: float64, Attr20  Attr28    0.04566\n",
              " dtype: float64, Attr51  Attr56    0.045433\n",
              " dtype: float64, Attr29  Attr34    0.045184\n",
              " dtype: float64, Attr29  Attr54    0.0449\n",
              " dtype: float64, Attr20  Attr62    0.043947\n",
              " dtype: float64, Attr29  Attr63    0.043738\n",
              " dtype: float64, Attr20  Attr54    0.043071\n",
              " dtype: float64, Attr6  Attr9    0.042861\n",
              " dtype: float64, Attr9  Attr56    0.042809\n",
              " dtype: float64, Attr21  Attr55    0.042116\n",
              " dtype: float64, Attr29  Attr33    0.041928\n",
              " dtype: float64, Attr39  Attr51    0.041148\n",
              " dtype: float64, Attr29  Attr40    0.039728\n",
              " dtype: float64, Attr3  Attr13    0.039652\n",
              " dtype: float64, Attr3  Attr19    0.039596\n",
              " dtype: float64, Attr3  Attr23    0.039485\n",
              " dtype: float64, Attr51  Attr58    0.037852\n",
              " dtype: float64, Attr29  Attr64    0.03779\n",
              " dtype: float64, Attr4  Attr29    0.037503\n",
              " dtype: float64, Attr9  Attr30    0.037209\n",
              " dtype: float64, Attr10  Attr29    0.037\n",
              " dtype: float64, Attr29  Attr46    0.036864\n",
              " dtype: float64, Attr2  Attr13    0.036786\n",
              " dtype: float64, Attr2  Attr19    0.036468\n",
              " dtype: float64, Attr21  Attr56    0.036419\n",
              " dtype: float64, Attr2  Attr23    0.036364\n",
              " dtype: float64, Attr9  Attr49    0.036236\n",
              " dtype: float64, Attr9  Attr39    0.036134\n",
              " dtype: float64, Attr29  Attr50    0.036125\n",
              " dtype: float64, Attr15  Attr44    0.035954\n",
              " dtype: float64, Attr25  Attr61    0.035923\n",
              " dtype: float64, Attr29  Attr38    0.035453\n",
              " dtype: float64, Attr9  Attr55    0.035289\n",
              " dtype: float64, Attr3  Attr36    0.034565\n",
              " dtype: float64, Attr13  Attr51    0.034357\n",
              " dtype: float64, Attr9  Attr64    0.034238\n",
              " dtype: float64, Attr19  Attr51    0.033777\n",
              " dtype: float64, Attr52  Attr62    0.033754\n",
              " dtype: float64, Attr23  Attr51    0.03371\n",
              " dtype: float64, Attr9  Attr42    0.033593\n",
              " dtype: float64, Attr9  Attr23    0.033408\n",
              " dtype: float64, Attr3  Attr31    0.033323\n",
              " dtype: float64, Attr9  Attr19    0.033145\n",
              " dtype: float64, Attr8  Attr42    0.032677\n",
              " dtype: float64, Attr17  Attr42    0.032665\n",
              " dtype: float64, Attr8  Attr44    0.032276\n",
              " dtype: float64, Attr17  Attr44    0.032248\n",
              " dtype: float64, Attr9  Attr62    0.03211\n",
              " dtype: float64, Attr8  Attr49    0.031913\n",
              " dtype: float64, Attr17  Attr49    0.031907\n",
              " dtype: float64, Attr9  Attr13    0.031745\n",
              " dtype: float64, Attr30  Attr52    0.031439\n",
              " dtype: float64, Attr3  Attr22    0.031182\n",
              " dtype: float64, Attr20  Attr30    0.03117\n",
              " dtype: float64, Attr9  Attr31    0.030461\n",
              " dtype: float64, Attr16  Attr29    0.030059\n",
              " dtype: float64, Attr26  Attr29    0.029911\n",
              " dtype: float64, Attr2  Attr31    0.029893\n",
              " dtype: float64, Attr3  Attr28    0.02895\n",
              " dtype: float64, Attr47  Attr56    0.028824\n",
              " dtype: float64, Attr20  Attr47    0.028616\n",
              " dtype: float64, Attr8  Attr43    0.028308\n",
              " dtype: float64, Attr17  Attr43    0.028276\n",
              " dtype: float64, Attr3  Attr35    0.028026\n",
              " dtype: float64, Attr31  Attr51    0.027745\n",
              " dtype: float64, Attr12  Attr29    0.027511\n",
              " dtype: float64, Attr5  Attr58    0.027452\n",
              " dtype: float64, Attr25  Attr55    0.027441\n",
              " dtype: float64, Attr9  Attr17    0.027276\n",
              " dtype: float64, Attr8  Attr9    0.026904\n",
              " dtype: float64, Attr12  Attr58    0.026639\n",
              " dtype: float64, Attr3  Attr42    0.026628\n",
              " dtype: float64, Attr3  Attr54    0.026571\n",
              " dtype: float64, Attr9  Attr21    0.026566\n",
              " dtype: float64, Attr3  Attr49    0.026348\n",
              " dtype: float64, Attr28  Attr29    0.026178\n",
              " dtype: float64, Attr32  Attr58    0.026067\n",
              " dtype: float64, Attr29  Attr58    0.025836\n",
              " dtype: float64, Attr25  Attr30    0.025525\n",
              " dtype: float64, Attr3  Attr48    0.025224\n",
              " dtype: float64, Attr3  Attr53    0.025037\n",
              " dtype: float64, Attr55  Attr56    0.025\n",
              " dtype: float64, Attr25  Attr62    0.02481\n",
              " dtype: float64, Attr2  Attr53    0.024706\n",
              " dtype: float64, Attr10  Attr55    0.024483\n",
              " dtype: float64, Attr32  Attr56    0.024473\n",
              " dtype: float64, Attr20  Attr23    0.024299\n",
              " dtype: float64, Attr38  Attr55    0.024261\n",
              " dtype: float64, Attr19  Attr20    0.024088\n",
              " dtype: float64, Attr47  Attr58    0.024011\n",
              " dtype: float64, Attr3  Attr32    0.023757\n",
              " dtype: float64, Attr9  Attr32    0.023637\n",
              " dtype: float64, Attr55  Attr58    0.023488\n",
              " dtype: float64, Attr51  Attr54    0.022897\n",
              " dtype: float64, Attr43  Attr52    0.022858\n",
              " dtype: float64, Attr44  Attr61    0.022794\n",
              " dtype: float64, Attr52  Attr56    0.022677\n",
              " dtype: float64, Attr8  Attr29    0.022444\n",
              " dtype: float64, Attr5  Attr42    0.022321\n",
              " dtype: float64, Attr2  Attr54    0.02231\n",
              " dtype: float64, Attr5  Attr49    0.022256\n",
              " dtype: float64, Attr51  Attr53    0.022247\n",
              " dtype: float64, Attr5  Attr56    0.021978\n",
              " dtype: float64, Attr28  Attr51    0.021957\n",
              " dtype: float64, Attr17  Attr29    0.021805\n",
              " dtype: float64, Attr6  Attr61    0.021669\n",
              " dtype: float64, Attr20  Attr31    0.021643\n",
              " dtype: float64, Attr12  Attr56    0.021347\n",
              " dtype: float64, Attr12  Attr39    0.020963\n",
              " dtype: float64, Attr27  Attr29    0.020871\n",
              " dtype: float64, Attr2  Attr42    0.020824\n",
              " dtype: float64, Attr2  Attr28    0.02082\n",
              " dtype: float64, Attr44  Attr52    0.020672\n",
              " dtype: float64, Attr2  Attr52    0.020434\n",
              " dtype: float64, Attr3  Attr63    0.020092\n",
              " dtype: float64, Attr2  Attr49    0.020077\n",
              " dtype: float64, Attr10  Attr30    0.020036\n",
              " dtype: float64, Attr20  Attr52    0.019977\n",
              " dtype: float64, Attr26  Attr31    0.019934\n",
              " dtype: float64, Attr51  Attr52    0.019754\n",
              " dtype: float64, Attr43  Attr61    0.019749\n",
              " dtype: float64, Attr9  Attr63    0.019687\n",
              " dtype: float64, Attr13  Attr26    0.019462\n",
              " dtype: float64, Attr2  Attr17    0.019412\n",
              " dtype: float64, Attr3  Attr52    0.019404\n",
              " dtype: float64, Attr38  Attr62    0.019348\n",
              " dtype: float64, Attr2  Attr8    0.01923\n",
              " dtype: float64, Attr23  Attr26    0.019207\n",
              " dtype: float64, Attr19  Attr26    0.019164\n",
              " dtype: float64, Attr10  Attr62    0.019148\n",
              " dtype: float64, Attr16  Attr31    0.019052\n",
              " dtype: float64, Attr6  Attr39    0.018791\n",
              " dtype: float64, Attr49  Attr52    0.018637\n",
              " dtype: float64, Attr13  Attr16    0.018604\n",
              " dtype: float64, Attr3  Attr33    0.018568\n",
              " dtype: float64, Attr5  Attr30    0.018565\n",
              " dtype: float64, Attr25  Attr58    0.018513\n",
              " dtype: float64, Attr16  Attr23    0.018347\n",
              " dtype: float64, Attr32  Attr51    0.018341\n",
              " dtype: float64, Attr16  Attr19    0.018325\n",
              " dtype: float64, Attr24  Attr39    0.018206\n",
              " dtype: float64, Attr30  Attr38    0.017861\n",
              " dtype: float64, Attr3  Attr29    0.017671\n",
              " dtype: float64, Attr39  Attr55    0.017548\n",
              " dtype: float64, Attr29  Attr31    0.01754\n",
              " dtype: float64, Attr36  Attr51    0.017397\n",
              " dtype: float64, Attr3  Attr4    0.017267\n",
              " dtype: float64, Attr13  Attr20    0.017251\n",
              " dtype: float64, Attr25  Attr56    0.017221\n",
              " dtype: float64, Attr26  Attr56    0.017135\n",
              " dtype: float64, Attr31  Attr40    0.016827\n",
              " dtype: float64, Attr38  Attr61    0.016801\n",
              " dtype: float64, Attr23  Attr40    0.016657\n",
              " dtype: float64, Attr8  Attr31    0.016619\n",
              " dtype: float64, Attr9  Attr24    0.016612\n",
              " dtype: float64, Attr3  Attr20    0.016605\n",
              " dtype: float64, Attr17  Attr31    0.016601\n",
              " dtype: float64, Attr8  Attr23    0.016559\n",
              " dtype: float64, Attr17  Attr23    0.016538\n",
              " dtype: float64, Attr3  Attr40    0.016532\n",
              " dtype: float64, Attr2  Attr32    0.016461\n",
              " dtype: float64, Attr2  Attr63    0.016435\n",
              " dtype: float64, Attr16  Attr56    0.016354\n",
              " dtype: float64, Attr13  Attr40    0.016208\n",
              " dtype: float64, Attr19  Attr40    0.016206\n",
              " dtype: float64, Attr5  Attr44    0.016179\n",
              " dtype: float64, Attr10  Attr61    0.016175\n",
              " dtype: float64, Attr24  Attr61    0.016077\n",
              " dtype: float64, Attr8  Attr13    0.015984\n",
              " dtype: float64, Attr13  Attr17    0.01596\n",
              " dtype: float64, Attr8  Attr19    0.015907\n",
              " dtype: float64, Attr17  Attr19    0.015886\n",
              " dtype: float64, Attr17  Attr51    0.015816\n",
              " dtype: float64, Attr3  Attr50    0.015813\n",
              " dtype: float64, Attr3  Attr46    0.015809\n",
              " dtype: float64, Attr20  Attr57    0.015782\n",
              " dtype: float64, Attr8  Attr51    0.015679\n",
              " dtype: float64, Attr26  Attr58    0.015577\n",
              " dtype: float64, Attr29  Attr32    0.015499\n",
              " dtype: float64, Attr5  Attr9    0.015454\n",
              " dtype: float64, Attr9  Attr33    0.01534\n",
              " dtype: float64, Attr5  Attr43    0.015254\n",
              " dtype: float64, Attr16  Attr58    0.015111\n",
              " dtype: float64, Attr5  Attr19    0.014989\n",
              " dtype: float64, Attr35  Attr39    0.01495\n",
              " dtype: float64, Attr5  Attr13    0.014857\n",
              " dtype: float64, Attr10  Attr58    0.01484\n",
              " dtype: float64, Attr42  Attr51    0.014813\n",
              " dtype: float64, Attr5  Attr23    0.01481\n",
              " dtype: float64, Attr12  Attr42    0.014797\n",
              " dtype: float64, Attr52  Attr58    0.01476\n",
              " dtype: float64, Attr3  Attr34    0.014695\n",
              " dtype: float64, Attr13  Attr29    0.014689\n",
              " dtype: float64, Attr19  Attr29    0.014679\n",
              " dtype: float64, Attr7  Attr39    0.014647\n",
              " dtype: float64, Attr14  Attr39    0.014647\n",
              " dtype: float64, Attr18  Attr39    0.014647\n",
              " dtype: float64, Attr12  Attr49    0.014614\n",
              " dtype: float64, Attr23  Attr29    0.014608\n",
              " dtype: float64, Attr51  Attr63    0.014567\n",
              " dtype: float64, Attr39  Attr52    0.014431\n",
              " dtype: float64, Attr11  Attr39    0.014379\n",
              " dtype: float64, Attr1  Attr39    0.014371\n",
              " dtype: float64, Attr2  Attr33    0.014356\n",
              " dtype: float64, Attr22  Attr39    0.014339\n",
              " dtype: float64, Attr4  Attr28    0.014319\n",
              " dtype: float64, Attr4  Attr44    0.014317\n",
              " dtype: float64, Attr5  Attr29    0.014269\n",
              " dtype: float64, Attr2  Attr12    0.014267\n",
              " dtype: float64, Attr3  Attr17    0.014141\n",
              " dtype: float64, Attr2  Attr36    0.014101\n",
              " dtype: float64, Attr36  Attr61    0.014092\n",
              " dtype: float64, Attr3  Attr8    0.014075\n",
              " dtype: float64, Attr2  Attr4    0.014009\n",
              " dtype: float64, Attr24  Attr56    0.013918\n",
              " dtype: float64, Attr3  Attr43    0.013916\n",
              " dtype: float64, Attr5  Attr31    0.013911\n",
              " dtype: float64, Attr13  Attr25    0.013904\n",
              " dtype: float64, Attr44  Attr46    0.013888\n",
              " dtype: float64, Attr10  Attr56    0.013876\n",
              " dtype: float64, Attr26  Attr39    0.013813\n",
              " dtype: float64, Attr44  Attr50    0.013803\n",
              " dtype: float64, Attr5  Attr62    0.013709\n",
              " dtype: float64, Attr19  Attr25    0.013668\n",
              " dtype: float64, Attr23  Attr25    0.013654\n",
              " dtype: float64, Attr49  Attr51    0.013614\n",
              " dtype: float64, Attr3  Attr12    0.013553\n",
              " dtype: float64, Attr19  Attr52    0.013492\n",
              " dtype: float64, Attr4  Attr54    0.01348\n",
              " dtype: float64, Attr23  Attr52    0.013466\n",
              " dtype: float64, Attr9  Attr52    0.01342\n",
              " dtype: float64, Attr30  Attr55    0.013333\n",
              " dtype: float64, Attr16  Attr39    0.013302\n",
              " dtype: float64, Attr2  Attr40    0.0133\n",
              " dtype: float64, Attr9  Attr40    0.013265\n",
              " dtype: float64, Attr33  Attr51    0.013231\n",
              " dtype: float64, Attr39  Attr48    0.013224\n",
              " dtype: float64, Attr3  Attr16    0.013224\n",
              " dtype: float64, Attr40  Attr44    0.013221\n",
              " dtype: float64, Attr9  Attr57    0.013159\n",
              " dtype: float64, Attr28  Attr59    0.013075\n",
              " dtype: float64, Attr55  Attr62    0.01307\n",
              " dtype: float64, Attr2  Attr50    0.013068\n",
              " dtype: float64, Attr3  Attr26    0.013051\n",
              " dtype: float64, Attr28  Attr34    0.013028\n",
              " dtype: float64, Attr24  Attr58    0.012856\n",
              " dtype: float64, Attr28  Attr46    0.012844\n",
              " dtype: float64, Attr2  Attr46    0.012799\n",
              " dtype: float64, Attr28  Attr50    0.012788\n",
              " dtype: float64, Attr34  Attr53    0.012786\n",
              " dtype: float64, Attr28  Attr40    0.012774\n",
              " dtype: float64, Attr47  Attr61    0.012714\n",
              " dtype: float64, Attr50  Attr53    0.012519\n",
              " dtype: float64, Attr54  Attr59    0.012499\n",
              " dtype: float64, Attr4  Attr43    0.012499\n",
              " dtype: float64, Attr6  Attr56    0.01248\n",
              " dtype: float64, Attr40  Attr53    0.012465\n",
              " dtype: float64, Attr22  Attr51    0.012459\n",
              " dtype: float64, Attr21  Attr54    0.012448\n",
              " dtype: float64, Attr46  Attr53    0.012318\n",
              " dtype: float64, Attr28  Attr33    0.012301\n",
              " dtype: float64, Attr42  Attr52    0.012293\n",
              " dtype: float64, Attr4  Attr53    0.012267\n",
              " dtype: float64, Attr34  Attr54    0.012261\n",
              " dtype: float64, Attr28  Attr63    0.012247\n",
              " dtype: float64, Attr4  Attr9    0.012208\n",
              " dtype: float64, Attr20  Attr27    0.012165\n",
              " dtype: float64, Attr6  Attr58    0.012157\n",
              " dtype: float64, Attr46  Attr54    0.012085\n",
              " dtype: float64, Attr33  Attr53    0.012053\n",
              " dtype: float64, Attr4  Attr51    0.012042\n",
              " dtype: float64, Attr50  Attr54    0.012039\n",
              " dtype: float64, Attr40  Attr54    0.012017\n",
              " dtype: float64, Attr55  Attr61    0.011975\n",
              " dtype: float64, Attr53  Attr63    0.011952\n",
              " dtype: float64, Attr16  Attr28    0.011867\n",
              " dtype: float64, Attr43  Attr50    0.011865\n",
              " dtype: float64, Attr26  Attr28    0.011824\n",
              " dtype: float64, Attr25  Attr39    0.011713\n",
              " dtype: float64, Attr3  Attr44    0.011681\n",
              " dtype: float64, Attr9  Attr50    0.011631\n",
              " dtype: float64, Attr16  Attr53    0.011616\n",
              " dtype: float64, Attr33  Attr54    0.01159\n",
              " dtype: float64, Attr26  Attr53    0.011571\n",
              " dtype: float64, Attr43  Attr46    0.011563\n",
              " dtype: float64, Attr54  Attr63    0.011544\n",
              " dtype: float64, Attr9  Attr46    0.011408\n",
              " dtype: float64, Attr3  Attr27    0.0114\n",
              " dtype: float64, Attr2  Attr22    0.011331\n",
              " dtype: float64, Attr2  Attr34    0.011291\n",
              " dtype: float64, Attr40  Attr51    0.011247\n",
              " dtype: float64, Attr38  Attr56    0.011202\n",
              " dtype: float64, Attr16  Attr54    0.011167\n",
              " dtype: float64, Attr26  Attr54    0.011126\n",
              " dtype: float64, Attr2  Attr16    0.01097\n",
              " dtype: float64, Attr40  Attr43    0.010916\n",
              " dtype: float64, Attr46  Attr51    0.010873\n",
              " dtype: float64, Attr2  Attr26    0.010804\n",
              " dtype: float64, Attr25  Attr31    0.010755\n",
              " dtype: float64, Attr21  Attr28    0.010636\n",
              " dtype: float64, Attr8  Attr28    0.01061\n",
              " dtype: float64, Attr17  Attr28    0.010586\n",
              " dtype: float64, Attr12  Attr53    0.010585\n",
              " dtype: float64, Attr12  Attr28    0.010563\n",
              " dtype: float64, Attr2  Attr44    0.010559\n",
              " dtype: float64, Attr20  Attr63    0.010545\n",
              " dtype: float64, Attr13  Attr52    0.010525\n",
              " dtype: float64, Attr8  Attr53    0.010517\n",
              " dtype: float64, Attr50  Attr51    0.010502\n",
              " dtype: float64, Attr17  Attr53    0.010496\n",
              " dtype: float64, Attr15  Attr39    0.01049\n",
              " dtype: float64, Attr20  Attr41    0.010475\n",
              " dtype: float64, Attr15  Attr56    0.010378\n",
              " dtype: float64, Attr2  Attr27    0.010287\n",
              " dtype: float64, Attr17  Attr30    0.01023\n",
              " dtype: float64, Attr8  Attr30    0.010212\n",
              " dtype: float64, Attr25  Attr32    0.010129\n",
              " dtype: float64, Attr44  Attr51    0.010115\n",
              " dtype: float64, Attr7  Attr56    0.010095\n",
              " dtype: float64, Attr14  Attr56    0.010095\n",
              " dtype: float64, Attr18  Attr56    0.010095\n",
              " dtype: float64, Attr20  Attr59    0.010068\n",
              " dtype: float64, Attr2  Attr5    0.010054\n",
              " dtype: float64, Attr20  Attr36    0.010009\n",
              " dtype: float64, Attr8  Attr54    0.009998\n",
              " dtype: float64, Attr10  Attr13    0.009995\n",
              " dtype: float64, Attr31  Attr46    0.009982\n",
              " dtype: float64, Attr17  Attr54    0.009974\n",
              " dtype: float64, Attr6  Attr30    0.009956\n",
              " dtype: float64, Attr21  Attr36    0.009937\n",
              " dtype: float64, Attr12  Attr54    0.009928\n",
              " dtype: float64, Attr11  Attr56    0.009912\n",
              " dtype: float64, Attr23  Attr46    0.009898\n",
              " dtype: float64, Attr1  Attr56    0.009885\n",
              " dtype: float64, Attr26  Attr42    0.009799\n",
              " dtype: float64, Attr6  Attr62    0.009778\n",
              " dtype: float64, Attr4  Attr31    0.009754\n",
              " dtype: float64, Attr10  Attr19    0.009749\n",
              " dtype: float64, Attr10  Attr23    0.009735\n",
              " dtype: float64, Attr12  Attr51    0.009682\n",
              " dtype: float64, Attr4  Attr23    0.009672\n",
              " dtype: float64, Attr9  Attr47    0.009664\n",
              " dtype: float64, Attr38  Attr58    0.009642\n",
              " dtype: float64, Attr49  Attr55    0.009608\n",
              " dtype: float64, Attr13  Attr46    0.009572\n",
              " dtype: float64, Attr19  Attr46    0.009572\n",
              " dtype: float64, Attr16  Attr42    0.009503\n",
              " dtype: float64, Attr56  Attr57    0.009483\n",
              " dtype: float64, Attr9  Attr34    0.009476\n",
              " dtype: float64, Attr6  Attr55    0.009473\n",
              " dtype: float64, Attr25  Attr29    0.009464\n",
              " dtype: float64, Attr25  Attr28    0.009449\n",
              " dtype: float64, Attr28  Attr43    0.009436\n",
              " dtype: float64, Attr21  Attr30    0.009394\n",
              " dtype: float64, Attr4  Attr19    0.009341\n",
              " dtype: float64, Attr4  Attr13    0.009335\n",
              " dtype: float64, Attr20  Attr33    0.009314\n",
              " dtype: float64, Attr13  Attr38    0.009299\n",
              " dtype: float64, Attr26  Attr49    0.009155\n",
              " dtype: float64, Attr27  Attr58    0.009139\n",
              " dtype: float64, Attr19  Attr55    0.009074\n",
              " dtype: float64, Attr42  Attr55    0.009041\n",
              " dtype: float64, Attr19  Attr38    0.009017\n",
              " dtype: float64, Attr23  Attr38    0.009016\n",
              " dtype: float64, Attr29  Attr42    0.009002\n",
              " dtype: float64, Attr35  Attr51    0.008993\n",
              " dtype: float64, Attr29  Attr49    0.008981\n",
              " dtype: float64, Attr16  Attr51    0.008967\n",
              " dtype: float64, Attr34  Attr51    0.008958\n",
              " dtype: float64, Attr15  Attr58    0.008951\n",
              " dtype: float64, Attr48  Attr51    0.008899\n",
              " dtype: float64, Attr16  Attr49    0.008896\n",
              " dtype: float64, Attr39  Attr57    0.008888\n",
              " dtype: float64, Attr23  Attr55    0.008863\n",
              " dtype: float64, Attr26  Attr51    0.008837\n",
              " dtype: float64, Attr7  Attr58    0.008783\n",
              " dtype: float64, Attr14  Attr58    0.008783\n",
              " dtype: float64, Attr18  Attr58    0.008783\n",
              " dtype: float64, Attr5  Attr51    0.008776\n",
              " dtype: float64, Attr2  Attr43    0.008762\n",
              " dtype: float64, Attr13  Attr55    0.008761\n",
              " dtype: float64, Attr35  Attr56    0.008671\n",
              " dtype: float64, Attr1  Attr58    0.008576\n",
              " dtype: float64, Attr31  Attr52    0.008545\n",
              " dtype: float64, Attr24  Attr49    0.008379\n",
              " dtype: float64, Attr58  Attr63    0.008356\n",
              " dtype: float64, Attr52  Attr61    0.008344\n",
              " dtype: float64, Attr51  Attr57    0.008264\n",
              " dtype: float64, Attr43  Attr54    0.00826\n",
              " dtype: float64, Attr12  Attr21    0.008221\n",
              " dtype: float64, Attr57  Attr58    0.00818\n",
              " dtype: float64, Attr24  Attr55    0.008158\n",
              " dtype: float64, Attr12  Attr20    0.008152\n",
              " dtype: float64, Attr24  Attr42    0.008126\n",
              " dtype: float64, Attr17  Attr20    0.008121\n",
              " dtype: float64, Attr8  Attr20    0.008083\n",
              " dtype: float64, Attr43  Attr51    0.007984\n",
              " dtype: float64, Attr2  Attr35    0.007962\n",
              " dtype: float64, Attr9  Attr41    0.007925\n",
              " dtype: float64, Attr2  Attr37    0.007918\n",
              " dtype: float64, Attr22  Attr56    0.007908\n",
              " dtype: float64, Attr21  Attr62    0.007847\n",
              " dtype: float64, Attr31  Attr55    0.007818\n",
              " dtype: float64, Attr11  Attr58    0.007807\n",
              " dtype: float64, Attr9  Attr12    0.007787\n",
              " dtype: float64, Attr10  Attr31    0.007733\n",
              " dtype: float64, Attr2  Attr48    0.007716\n",
              " dtype: float64, Attr20  Attr21    0.007648\n",
              " dtype: float64, Attr38  Attr52    0.007592\n",
              " dtype: float64, Attr27  Attr51    0.007561\n",
              " dtype: float64, Attr10  Attr52    0.007474\n",
              " dtype: float64, Attr3  Attr57    0.007464\n",
              " dtype: float64, Attr7  Attr61    0.007409\n",
              " dtype: float64, Attr14  Attr61    0.007409\n",
              " dtype: float64, Attr18  Attr61    0.007409\n",
              " dtype: float64, Attr25  Attr52    0.007387\n",
              " dtype: float64, Attr21  Attr39    0.00736\n",
              " dtype: float64, Attr1  Attr61    0.007349\n",
              " dtype: float64, Attr31  Attr50    0.007302\n",
              " dtype: float64, Attr20  Attr29    0.007291\n",
              " dtype: float64, Attr23  Attr50    0.007267\n",
              " dtype: float64, Attr20  Attr51    0.007255\n",
              " dtype: float64, Attr6  Attr21    0.007239\n",
              " dtype: float64, Attr25  Attr42    0.007229\n",
              " dtype: float64, Attr31  Attr38    0.007192\n",
              " dtype: float64, Attr7  Attr55    0.007087\n",
              " dtype: float64, Attr14  Attr55    0.007087\n",
              " dtype: float64, Attr18  Attr55    0.007087\n",
              " dtype: float64, Attr22  Attr61    0.007059\n",
              " dtype: float64, Attr29  Attr52    0.007027\n",
              " dtype: float64, Attr21  Attr38    0.007018\n",
              " dtype: float64, Attr20  Attr61    0.007001\n",
              " dtype: float64, Attr13  Attr50    0.006989\n",
              " dtype: float64, Attr19  Attr50    0.006975\n",
              " dtype: float64, Attr19  Attr24    0.006945\n",
              " dtype: float64, Attr6  Attr49    0.006928\n",
              " dtype: float64, Attr20  Attr40    0.006928\n",
              " dtype: float64, Attr35  Attr61    0.006927\n",
              " dtype: float64, Attr15  Attr29    0.006919\n",
              " dtype: float64, Attr1  Attr55    0.006895\n",
              " dtype: float64, Attr16  Attr20    0.00687\n",
              " dtype: float64, Attr23  Attr24    0.006866\n",
              " dtype: float64, Attr52  Attr55    0.006858\n",
              " dtype: float64, Attr20  Attr34    0.006848\n",
              " dtype: float64, Attr11  Attr61    0.006808\n",
              " dtype: float64, Attr20  Attr26    0.006795\n",
              " dtype: float64, Attr27  Attr39    0.006779\n",
              " dtype: float64, Attr13  Attr24    0.006777\n",
              " dtype: float64, Attr22  Attr58    0.006773\n",
              " dtype: float64, Attr11  Attr55    0.006769\n",
              " dtype: float64, Attr24  Attr31    0.006767\n",
              " dtype: float64, Attr20  Attr46    0.006764\n",
              " dtype: float64, Attr25  Attr49    0.006712\n",
              " dtype: float64, Attr6  Attr42    0.006698\n",
              " dtype: float64, Attr35  Attr58    0.006694\n",
              " dtype: float64, Attr44  Attr55    0.006632\n",
              " dtype: float64, Attr10  Attr21    0.006589\n",
              " dtype: float64, Attr36  Attr55    0.006552\n",
              " dtype: float64, Attr33  Attr56    0.006497\n",
              " dtype: float64, Attr10  Attr39    0.006477\n",
              " dtype: float64, Attr2  Attr57    0.006384\n",
              " dtype: float64, Attr32  Attr55    0.006342\n",
              " dtype: float64, Attr9  Attr54    0.006327\n",
              " dtype: float64, Attr28  Attr61    0.006326\n",
              " dtype: float64, Attr21  Attr26    0.006294\n",
              " dtype: float64, Attr23  Attr61    0.006285\n",
              " dtype: float64, Attr21  Attr24    0.006274\n",
              " dtype: float64, Attr1  Attr21    0.006258\n",
              " dtype: float64, Attr21  Attr48    0.006207\n",
              " dtype: float64, Attr30  Attr61    0.006193\n",
              " dtype: float64, Attr29  Attr62    0.006182\n",
              " dtype: float64, Attr19  Attr61    0.006181\n",
              " dtype: float64, Attr18  Attr21    0.006179\n",
              " dtype: float64, Attr14  Attr21    0.006179\n",
              " dtype: float64, Attr7  Attr21    0.006179\n",
              " dtype: float64, Attr16  Attr21    0.006139\n",
              " dtype: float64, Attr11  Attr21    0.006114\n",
              " dtype: float64, Attr28  Attr38    0.006095\n",
              " dtype: float64, Attr48  Attr61    0.006061\n",
              " dtype: float64, Attr37  Attr59    0.006029\n",
              " dtype: float64, Attr13  Attr61    0.006014\n",
              " dtype: float64, Attr6  Attr19    0.00601\n",
              " dtype: float64, Attr9  Attr48    0.005987\n",
              " dtype: float64, Attr6  Attr23    0.005975\n",
              " dtype: float64, Attr21  Attr25    0.005964\n",
              " dtype: float64, Attr2  Attr59    0.005953\n",
              " dtype: float64, Attr21  Attr35    0.005898\n",
              " dtype: float64, Attr1  Attr9    0.005894\n",
              " dtype: float64, Attr21  Attr22    0.005888\n",
              " dtype: float64, Attr3  Attr5    0.005878\n",
              " dtype: float64, Attr6  Attr13    0.005864\n",
              " dtype: float64, Attr31  Attr61    0.005769\n",
              " dtype: float64, Attr10  Attr28    0.005768\n",
              " dtype: float64, Attr55  Attr59    0.005766\n",
              " dtype: float64, Attr54  Attr61    0.005719\n",
              " dtype: float64, Attr34  Attr56    0.005706\n",
              " dtype: float64, Attr8  Attr10    0.005686\n",
              " dtype: float64, Attr10  Attr17    0.005685\n",
              " dtype: float64, Attr20  Attr37    0.005618\n",
              " dtype: float64, Attr32  Attr38    0.005576\n",
              " dtype: float64, Attr9  Attr18    0.005538\n",
              " dtype: float64, Attr9  Attr14    0.005538\n",
              " dtype: float64, Attr7  Attr9    0.005538\n",
              " dtype: float64, Attr61  Attr63    0.005535\n",
              " dtype: float64, Attr49  Attr61    0.005526\n",
              " dtype: float64, Attr9  Attr22    0.005517\n",
              " dtype: float64, Attr17  Attr25    0.005501\n",
              " dtype: float64, Attr8  Attr25    0.005479\n",
              " dtype: float64, Attr21  Attr32    0.005472\n",
              " dtype: float64, Attr43  Attr55    0.005435\n",
              " dtype: float64, Attr20  Attr60    0.005421\n",
              " dtype: float64, Attr43  Attr47    0.005392\n",
              " dtype: float64, Attr47  Attr49    0.005386\n",
              " dtype: float64, Attr2  Attr21    0.005337\n",
              " dtype: float64, Attr3  Attr37    0.005333\n",
              " dtype: float64, Attr20  Attr45    0.005326\n",
              " dtype: float64, Attr33  Attr61    0.005306\n",
              " dtype: float64, Attr2  Attr20    0.005296\n",
              " dtype: float64, Attr30  Attr36    0.005295\n",
              " dtype: float64, Attr12  Attr25    0.005235\n",
              " dtype: float64, Attr20  Attr32    0.005228\n",
              " dtype: float64, Attr51  Attr64    0.005215\n",
              " dtype: float64, Attr18  Attr49    0.005207\n",
              " dtype: float64, Attr14  Attr49    0.005207\n",
              " dtype: float64, Attr7  Attr49    0.005207\n",
              " dtype: float64, Attr42  Attr61    0.005201\n",
              " dtype: float64, Attr24  Attr30    0.00518\n",
              " dtype: float64, Attr10  Attr32    0.005166\n",
              " dtype: float64, Attr1  Attr49    0.005075\n",
              " dtype: float64, Attr41  Attr56    0.005066\n",
              " dtype: float64, Attr22  Attr49    0.005062\n",
              " dtype: float64, Attr3  Attr21    0.005043\n",
              " dtype: float64, Attr27  Attr49    0.005035\n",
              " dtype: float64, Attr61  Attr62    0.005007\n",
              " dtype: float64, Attr20  Attr53    0.004974\n",
              " dtype: float64, Attr5  Attr8    0.00497\n",
              " dtype: float64, Attr11  Attr49    0.004958\n",
              " dtype: float64, Attr5  Attr17    0.004957\n",
              " dtype: float64, Attr10  Attr63    0.004912\n",
              " dtype: float64, Attr53  Attr61    0.004911\n",
              " dtype: float64, Attr56  Attr61    0.004896\n",
              " dtype: float64, Attr48  Attr49    0.004878\n",
              " dtype: float64, Attr18  Attr42    0.004877\n",
              " dtype: float64, Attr14  Attr42    0.004877\n",
              " dtype: float64, Attr7  Attr42    0.004877\n",
              " dtype: float64, Attr48  Attr56    0.004873\n",
              " dtype: float64, Attr43  Attr63    0.004805\n",
              " dtype: float64, Attr27  Attr42    0.004803\n",
              " dtype: float64, Attr8  Attr38    0.0048\n",
              " dtype: float64, Attr25  Attr63    0.004798\n",
              " dtype: float64, Attr55  Attr57    0.004792\n",
              " dtype: float64, Attr17  Attr38    0.004789\n",
              " dtype: float64, Attr18  Attr31    0.004788\n",
              " dtype: float64, Attr14  Attr31    0.004788\n",
              " dtype: float64, Attr7  Attr31    0.004788\n",
              " dtype: float64, Attr27  Attr56    0.004755\n",
              " dtype: float64, Attr1  Attr42    0.004753\n",
              " dtype: float64, Attr20  Attr50    0.00474\n",
              " dtype: float64, Attr27  Attr43    0.004736\n",
              " dtype: float64, Attr1  Attr31    0.004706\n",
              " dtype: float64, Attr22  Attr42    0.004678\n",
              " dtype: float64, Attr39  Attr40    0.004667\n",
              " dtype: float64, Attr18  Attr19    0.004663\n",
              " dtype: float64, Attr14  Attr19    0.004663\n",
              " dtype: float64, Attr7  Attr19    0.004663\n",
              " dtype: float64, Attr18  Attr23    0.004626\n",
              " dtype: float64, Attr14  Attr23    0.004626\n",
              " dtype: float64, Attr7  Attr23    0.004626\n",
              " dtype: float64, Attr11  Attr42    0.004625\n",
              " dtype: float64, Attr6  Attr31    0.004618\n",
              " dtype: float64, Attr58  Attr59    0.004584\n",
              " dtype: float64, Attr1  Attr19    0.004576\n",
              " dtype: float64, Attr41  Attr58    0.004564\n",
              " dtype: float64, Attr1  Attr23    0.004553\n",
              " dtype: float64, Attr24  Attr62    0.004502\n",
              " dtype: float64, Attr13  Attr18    0.004483\n",
              " dtype: float64, Attr13  Attr14    0.004483\n",
              " dtype: float64, Attr7  Attr13    0.004483\n",
              " dtype: float64, Attr9  Attr60    0.004474\n",
              " dtype: float64, Attr6  Attr28    0.004416\n",
              " dtype: float64, Attr25  Attr59    0.004415\n",
              " dtype: float64, Attr9  Attr45    0.004406\n",
              " dtype: float64, Attr1  Attr13    0.004401\n",
              " dtype: float64, Attr38  Attr63    0.004401\n",
              " dtype: float64, Attr34  Attr55    0.004383\n",
              " dtype: float64, Attr34  Attr39    0.004376\n",
              " dtype: float64, Attr35  Attr49    0.004359\n",
              " dtype: float64, Attr17  Attr61    0.004341\n",
              " dtype: float64, Attr8  Attr61    0.004295\n",
              " dtype: float64, Attr32  Attr61    0.004287\n",
              " dtype: float64, Attr10  Attr33    0.004285\n",
              " dtype: float64, Attr48  Attr55    0.004272\n",
              " dtype: float64, Attr11  Attr31    0.004259\n",
              " dtype: float64, ...]"
            ]
          },
          "metadata": {
            "tags": []
          },
          "execution_count": 13
        }
      ]
    },
    {
      "cell_type": "markdown",
      "metadata": {
        "id": "3Slp7x_tUJbp",
        "colab_type": "text"
      },
      "source": [
        "### Naive Bayes: Before dropping correlated variables"
      ]
    },
    {
      "cell_type": "code",
      "metadata": {
        "id": "Wlks5gSjUJbq",
        "colab_type": "code",
        "colab": {}
      },
      "source": [
        "from sklearn.naive_bayes import GaussianNB\n",
        "gnb = GaussianNB()\n",
        "\n",
        "gnb1 = gnb.fit(year_1_sans_target, year_1_target)\n",
        "gnb2 = gnb.fit(year_2_sans_target, year_2_target)\n",
        "gnb3 = gnb.fit(year_3_sans_target, year_3_target)\n",
        "gnb4 = gnb.fit(year_4_sans_target, year_4_target)\n",
        "gnb5 = gnb.fit(year_5_sans_target, year_5_target)"
      ],
      "execution_count": 0,
      "outputs": []
    },
    {
      "cell_type": "code",
      "metadata": {
        "id": "SL53hihGUJbs",
        "colab_type": "code",
        "colab": {}
      },
      "source": [
        "year1_pred = gnb1.fit(year_1_sans_target, year_1_target).predict(year_1_test_sans_target)"
      ],
      "execution_count": 0,
      "outputs": []
    },
    {
      "cell_type": "code",
      "metadata": {
        "id": "Np7tcwYuUJby",
        "colab_type": "code",
        "colab": {}
      },
      "source": [
        " from sklearn.metrics import precision_recall_fscore_support"
      ],
      "execution_count": 0,
      "outputs": []
    },
    {
      "cell_type": "code",
      "metadata": {
        "id": "A9JgEgHMUJb5",
        "colab_type": "code",
        "colab": {}
      },
      "source": [
        "#precision, recall, F-measure and support \n",
        "year_1_target = year1_train_['class']\n",
        "year_1_sans_target #The support is the number of occurrences of each class in y_true.\n",
        "\n",
        "vals = precision_recall_fscore_support(year1_pred, year_1_test_target)"
      ],
      "execution_count": 0,
      "outputs": []
    },
    {
      "cell_type": "code",
      "metadata": {
        "id": "wfAZh3kpUJb-",
        "colab_type": "code",
        "outputId": "5d70412e-5e3a-4b11-fb73-2326ee1d5c79",
        "colab": {}
      },
      "source": [
        "# Compute precision, recall, F-measure and support for each class\n",
        "vals"
      ],
      "execution_count": 0,
      "outputs": [
        {
          "output_type": "execute_result",
          "data": {
            "text/plain": [
              "(array([0.04415011, 0.95744681]),\n",
              " array([0.96774194, 0.03348214]),\n",
              " array([0.08444757, 0.06470165]),\n",
              " array([  62, 1344]))"
            ]
          },
          "metadata": {
            "tags": []
          },
          "execution_count": 18
        }
      ]
    },
    {
      "cell_type": "markdown",
      "metadata": {
        "id": "dbQpDZbgUJcB",
        "colab_type": "text"
      },
      "source": [
        "### Naive Bayes: After Dropping the Correlated Variables"
      ]
    },
    {
      "cell_type": "code",
      "metadata": {
        "id": "ZIEyJiMwUJcC",
        "colab_type": "code",
        "colab": {}
      },
      "source": [
        "for i in range(5):\n",
        "    years[i] = years[i].drop(['Attr19', 'Attr20','Attr23', \n",
        "                             'Attr30','Attr31','Attr39', \n",
        "                             'Attr42','Attr43','Attr44', \n",
        "                             'Attr49','Attr56','Attr58','Attr62'], axis=1)\n",
        "    \n",
        "year1_train, year1_test = model_selection.train_test_split(years[0], test_size = 0.20)\n",
        "year1_train, year1_valid = model_selection.train_test_split(year1_train, test_size = 0.20)\n",
        "\n",
        "year2_train, year2_test = model_selection.train_test_split(years[1], test_size = 0.20)\n",
        "year2_train, year2_valid = model_selection.train_test_split(year2_train, test_size = 0.20)\n",
        "\n",
        "year3_train, year3_test = model_selection.train_test_split(years[2], test_size = 0.20)\n",
        "year3_train, year3_valid = model_selection.train_test_split(year3_train, test_size = 0.20)\n",
        "\n",
        "year4_train, year4_test = model_selection.train_test_split(years[3], test_size = 0.20)\n",
        "year4_train, year4_valid = model_selection.train_test_split(year4_train, test_size = 0.20)\n",
        "\n",
        "year5_train, year5_test = model_selection.train_test_split(years[4], test_size = 0.20)\n",
        "year5_train, year5_valid = model_selection.train_test_split(year5_train, test_size = 0.20)\n",
        "\n",
        "\n",
        "\n",
        "year1_train_ = year1_train.drop(['id'], axis = 1)\n",
        "year1_train_ = pd.DataFrame(year1_train_)\n",
        "year_1_target = year1_train_['class']\n",
        "year_1_sans_target = year1_train_.drop(['class'], axis = 1)\n",
        "\n",
        "year2_train_ = year2_train.drop(['id'], axis = 1)\n",
        "year2_train_ = pd.DataFrame(year2_train_)\n",
        "year_2_target = year2_train_['class']\n",
        "year_2_sans_target = year2_train_.drop(['class'], axis = 1)\n",
        "\n",
        "year3_train_ = year3_train.drop(['id'], axis = 1)\n",
        "year3_train_ = pd.DataFrame(year3_train_)\n",
        "year_3_target = year3_train_['class']\n",
        "year_3_sans_target = year3_train_.drop(['class'], axis = 1)\n",
        "\n",
        "year4_train_ = year4_train.drop(['id'], axis = 1)\n",
        "year4_train_ = pd.DataFrame(year4_train_)\n",
        "year_4_target = year4_train_['class']\n",
        "year_4_sans_target = year4_train_.drop(['class'], axis = 1)\n",
        "\n",
        "\n",
        "year5_train_ = year5_train.drop(['id'], axis = 1)\n",
        "year5_train_ = pd.DataFrame(year5_train_)\n",
        "year_5_target = year5_train_['class']\n",
        "year_5_sans_target = year5_train_.drop(['class'], axis = 1)\n",
        "\n",
        "\n",
        "\n",
        "year1_test_ = year1_test.drop(['id'], axis = 1)\n",
        "year1_test_ = pd.DataFrame(year1_test_)\n",
        "year_1_test_target = year1_test_['class']\n",
        "year_1_test_sans_target = year1_test_.drop(['class'], axis = 1)\n",
        "\n",
        "year2_test_ = year2_test.drop(['id'], axis = 1)\n",
        "year2_test_ = pd.DataFrame(year2_test_)\n",
        "year_2_test_target = year2_test_['class']\n",
        "year_2_test_sans_target = year2_test_.drop(['class'], axis = 1)\n",
        "\n",
        "year3_test_ = year3_test.drop(['id'], axis = 1)\n",
        "year3_test_ = pd.DataFrame(year3_test_)\n",
        "year_3_test_target = year3_test_['class']\n",
        "year_3_test_sans_target = year3_test_.drop(['class'], axis = 1)\n",
        "\n",
        "year4_test_ = year4_test.drop(['id'], axis = 1)\n",
        "year4_test_ = pd.DataFrame(year1_test_)\n",
        "year_4_test_target = year4_test_['class']\n",
        "year_4_test_sans_target = year4_test_.drop(['class'], axis = 1)\n",
        "\n",
        "year5_test_ = year5_test.drop(['id'], axis = 1)\n",
        "year5_test_ = pd.DataFrame(year5_test_)\n",
        "year_5_test_target = year5_test_['class']\n",
        "year_5_test_sans_target = year5_test_.drop(['class'], axis = 1)\n"
      ],
      "execution_count": 0,
      "outputs": []
    },
    {
      "cell_type": "code",
      "metadata": {
        "id": "wIt3B-toUJcE",
        "colab_type": "code",
        "colab": {}
      },
      "source": [
        "from sklearn.naive_bayes import GaussianNB\n",
        "gnb = GaussianNB()\n",
        "\n",
        "gnb1 = gnb.fit(year_1_sans_target, year_1_target)\n",
        "gnb2 = gnb.fit(year_2_sans_target, year_2_target)\n",
        "gnb3 = gnb.fit(year_3_sans_target, year_3_target)\n",
        "gnb4 = gnb.fit(year_4_sans_target, year_4_target)\n",
        "gnb5 = gnb.fit(year_5_sans_target, year_5_target)"
      ],
      "execution_count": 0,
      "outputs": []
    },
    {
      "cell_type": "code",
      "metadata": {
        "id": "TVmVzZX1UJcI",
        "colab_type": "code",
        "outputId": "0499ff52-8926-446e-869d-7f60d5769cbb",
        "colab": {}
      },
      "source": [
        "year1_pred = gnb1.fit(year_1_sans_target, year_1_target).predict(year_1_test_sans_target)\n",
        "\n",
        "#precision, recall, F-measure and support \n",
        "year_1_target = year1_train_['class']\n",
        "year_1_sans_target #The support is the number of occurrences of each class in y_true.\n",
        "\n",
        "vals = precision_recall_fscore_support(year1_pred, year_1_test_target)\n",
        "\n",
        "# Compute precision, recall, F-measure and support for each class\n",
        "vals"
      ],
      "execution_count": 0,
      "outputs": [
        {
          "output_type": "execute_result",
          "data": {
            "text/plain": [
              "(array([0.07914201, 0.90740741]),\n",
              " array([0.95535714, 0.03786708]),\n",
              " array([0.14617486, 0.0727003 ]),\n",
              " array([ 112, 1294]))"
            ]
          },
          "metadata": {
            "tags": []
          },
          "execution_count": 21
        }
      ]
    },
    {
      "cell_type": "markdown",
      "metadata": {
        "id": "9KwficR5UJcK",
        "colab_type": "text"
      },
      "source": [
        "(array([0.03345725, 0.95081967]),\n",
        " array([0.9375    , 0.04270987]),\n",
        " array([0.06460876, 0.08174771]),\n",
        " array([  48, 1358]))"
      ]
    },
    {
      "cell_type": "markdown",
      "metadata": {
        "id": "3DtmtmntUJcL",
        "colab_type": "text"
      },
      "source": [
        "## Logistic Regression "
      ]
    },
    {
      "cell_type": "code",
      "metadata": {
        "id": "JxlvnT9YUJcM",
        "colab_type": "code",
        "outputId": "fa5e5930-5bea-485d-cd0c-75a0e44c5dcf",
        "colab": {}
      },
      "source": [
        "LR = LogisticRegression()\n",
        "lr1 = LR.fit(year_1_sans_target, year_1_target)\n",
        "\n",
        "lr1_year1_pred = lr1.fit(year_1_sans_target, year_1_target).predict(year_1_test_sans_target)\n",
        "\n",
        "#precision, recall, F-measure and support \n",
        "\n",
        "vals = precision_recall_fscore_support(lr1_year1_pred, year_1_test_target)\n",
        "\n",
        "# Compute precision, recall, F-measure and support for each class\n",
        "vals"
      ],
      "execution_count": 0,
      "outputs": [
        {
          "output_type": "stream",
          "text": [
            "/usr/local/lib/python2.7/site-packages/sklearn/linear_model/logistic.py:433: FutureWarning: Default solver will be changed to 'lbfgs' in 0.22. Specify a solver to silence this warning.\n",
            "  FutureWarning)\n",
            "/usr/local/lib/python2.7/site-packages/sklearn/svm/base.py:931: ConvergenceWarning: Liblinear failed to converge, increase the number of iterations.\n",
            "  \"the number of iterations.\", ConvergenceWarning)\n",
            "/usr/local/lib/python2.7/site-packages/sklearn/svm/base.py:931: ConvergenceWarning: Liblinear failed to converge, increase the number of iterations.\n",
            "  \"the number of iterations.\", ConvergenceWarning)\n"
          ],
          "name": "stderr"
        },
        {
          "output_type": "execute_result",
          "data": {
            "text/plain": [
              "(array([0.99852071, 0.        ]),\n",
              " array([0.96153846, 0.        ]),\n",
              " array([0.9796807, 0.       ]),\n",
              " array([1404,    2]))"
            ]
          },
          "metadata": {
            "tags": []
          },
          "execution_count": 22
        }
      ]
    },
    {
      "cell_type": "code",
      "metadata": {
        "id": "WxtZI_Z5UJcO",
        "colab_type": "code",
        "outputId": "2a37eca2-8520-4eca-c067-1b303f60aa46",
        "colab": {}
      },
      "source": [
        "LR = LogisticRegression(penalty='l1', C = 0.5)\n",
        "lr1 = LR.fit(year_1_sans_target, year_1_target)\n",
        "lr1_year1_pred = lr1.fit(year_1_sans_target, year_1_target).predict(year_1_test_sans_target)\n",
        "\n",
        "#precision, recall, F-measure and support \n",
        "\n",
        "vals = precision_recall_fscore_support(lr1_year1_pred, year_1_test_target)\n",
        "\n",
        "# Compute precision, recall, F-measure and support for each class\n",
        "vals"
      ],
      "execution_count": 0,
      "outputs": [
        {
          "output_type": "execute_result",
          "data": {
            "text/plain": [
              "(array([0.99926036, 0.03703704]),\n",
              " array([0.96293656, 0.66666667]),\n",
              " array([0.98076225, 0.07017544]),\n",
              " array([1403,    3]))"
            ]
          },
          "metadata": {
            "tags": []
          },
          "execution_count": 23
        }
      ]
    },
    {
      "cell_type": "code",
      "metadata": {
        "id": "onc-YyJwUJcS",
        "colab_type": "code",
        "outputId": "6cd55ec4-d61c-4fae-c897-a70f9ececa37",
        "colab": {}
      },
      "source": [
        "print classification_report(year_1_test_target, lr1_year1_pred)"
      ],
      "execution_count": 0,
      "outputs": [
        {
          "output_type": "stream",
          "text": [
            "              precision    recall  f1-score   support\n",
            "\n",
            "         0.0       0.96      1.00      0.98      1352\n",
            "         1.0       0.67      0.04      0.07        54\n",
            "\n",
            "   micro avg       0.96      0.96      0.96      1406\n",
            "   macro avg       0.81      0.52      0.53      1406\n",
            "weighted avg       0.95      0.96      0.95      1406\n",
            "\n"
          ],
          "name": "stdout"
        }
      ]
    },
    {
      "cell_type": "markdown",
      "metadata": {
        "id": "BIYZOzf0UJcV",
        "colab_type": "text"
      },
      "source": [
        "## Nearest Shrunken Centroid Classifier"
      ]
    },
    {
      "cell_type": "code",
      "metadata": {
        "id": "AcRv26klUJcW",
        "colab_type": "code",
        "colab": {}
      },
      "source": [
        "from sklearn.neighbors import NearestCentroid"
      ],
      "execution_count": 0,
      "outputs": []
    },
    {
      "cell_type": "markdown",
      "metadata": {
        "id": "C98AagT6UJcc",
        "colab_type": "text"
      },
      "source": [
        "### without any shrinkage"
      ]
    },
    {
      "cell_type": "code",
      "metadata": {
        "id": "2GWOQ3MaUJcc",
        "colab_type": "code",
        "colab": {}
      },
      "source": [
        "nsc = NearestCentroid()\n",
        "nsc1 = nsc.fit(year_1_sans_target, year_1_target)\n",
        "nsc_preds = nsc1.predict(year_1_test_sans_target)"
      ],
      "execution_count": 0,
      "outputs": []
    },
    {
      "cell_type": "code",
      "metadata": {
        "id": "Tq9Q6gxpUJcf",
        "colab_type": "code",
        "outputId": "c0cf6339-cb28-484d-a4ff-13abc7695c27",
        "colab": {}
      },
      "source": [
        "score = nsc1.score(year_1_test_sans_target, year_1_test_target)\n",
        "print score"
      ],
      "execution_count": 0,
      "outputs": [
        {
          "output_type": "stream",
          "text": [
            "0.3662873399715505\n"
          ],
          "name": "stdout"
        }
      ]
    },
    {
      "cell_type": "markdown",
      "metadata": {
        "id": "N_LQqkpQUJck",
        "colab_type": "text"
      },
      "source": [
        "### With varying degrees of shrinkage"
      ]
    },
    {
      "cell_type": "code",
      "metadata": {
        "id": "2lUp9RERUJck",
        "colab_type": "code",
        "colab": {}
      },
      "source": [
        "def shrinkageNSC(shrinkage_thresholds, trainX, trainY, testX, testY):\n",
        "    for t in shrinkage_thresholds:\n",
        "        nsc = NearestCentroid(shrink_threshold = t )\n",
        "        model = nsc.fit(trainX, trainY)\n",
        "        score = model.score(testX,testY)\n",
        "        scores.append(score)\n",
        "        print 'Shrinkage: ', t, ' Accuracy: ', score\n",
        "    return scores\n"
      ],
      "execution_count": 0,
      "outputs": []
    },
    {
      "cell_type": "code",
      "metadata": {
        "id": "VDkFAQwXUJcp",
        "colab_type": "code",
        "outputId": "8e6672e9-de04-49cd-957e-1f196eaa74a1",
        "colab": {}
      },
      "source": [
        "shrinkage_thresholds = [0, 0.01, 0.1, 0.2, 0.5, 0.8, 0.9, 1, 5, 10, 15, 20]\n",
        "scores = []\n",
        "scores = shrinkageNSC(shrinkage_thresholds, year_1_sans_target, year_1_target, year_1_test_sans_target, year_1_test_target)"
      ],
      "execution_count": 0,
      "outputs": [
        {
          "output_type": "stream",
          "text": [
            "Shrinkage:  0  Accuracy:  0.3662873399715505\n",
            "Shrinkage:  0.01  Accuracy:  0.36415362731152207\n",
            "Shrinkage:  0.1  Accuracy:  0.3435277382645804\n",
            "Shrinkage:  0.2  Accuracy:  0.31721194879089615\n",
            "Shrinkage:  0.5  Accuracy:  0.2716927453769559\n",
            "Shrinkage:  0.8  Accuracy:  0.23399715504978663\n",
            "Shrinkage:  0.9  Accuracy:  0.23044096728307253\n",
            "Shrinkage:  1  Accuracy:  0.22617354196301565\n",
            "Shrinkage:  5  Accuracy:  0.9615931721194879\n",
            "Shrinkage:  10  Accuracy:  0.9615931721194879\n",
            "Shrinkage:  15  Accuracy:  0.9615931721194879\n",
            "Shrinkage:  20  Accuracy:  0.9615931721194879\n"
          ],
          "name": "stdout"
        }
      ]
    },
    {
      "cell_type": "code",
      "metadata": {
        "id": "VsiJVGjEUJcu",
        "colab_type": "code",
        "outputId": "258c34a5-900b-465e-9157-a8634a534986",
        "colab": {}
      },
      "source": [
        "print shrinkage_thresholds"
      ],
      "execution_count": 0,
      "outputs": [
        {
          "output_type": "stream",
          "text": [
            "[0, 0.01, 0.1, 0.2, 0.5, 0.8, 0.9, 1, 5, 10, 15, 20]\n"
          ],
          "name": "stdout"
        }
      ]
    },
    {
      "cell_type": "code",
      "metadata": {
        "id": "C-OeTAh0UJcw",
        "colab_type": "code",
        "outputId": "7838f4be-031a-4ad0-8bb0-38d38ac87cc9",
        "colab": {}
      },
      "source": [
        "plt.figure(figsize=(20,7))\n",
        "plt.plot(shrinkage_thresholds, scores, )\n",
        "plt.grid(True)\n",
        "plt.title(\"Shrinkage vs Accuracy\")\n",
        "plt.xlabel('Shrinkage Thresholds')\n",
        "plt.ylabel('Accuracy')\n",
        "plt.show()"
      ],
      "execution_count": 0,
      "outputs": [
        {
          "output_type": "display_data",
          "data": {
            "image/png": "[encoded data removed]",
            "text/plain": [
              "<Figure size 1440x504 with 1 Axes>"
            ]
          },
          "metadata": {
            "tags": []
          }
        }
      ]
    },
    {
      "cell_type": "markdown",
      "metadata": {
        "id": "UNuzx2O9UJcy",
        "colab_type": "text"
      },
      "source": [
        "## Support Vector Machines "
      ]
    },
    {
      "cell_type": "code",
      "metadata": {
        "id": "AWi9Kg3KUJcz",
        "colab_type": "code",
        "colab": {}
      },
      "source": [
        "from sklearn import svm"
      ],
      "execution_count": 0,
      "outputs": []
    },
    {
      "cell_type": "code",
      "metadata": {
        "id": "Uc9zQu_sUJc1",
        "colab_type": "code",
        "outputId": "5cd22225-5d9c-4964-8abc-44b95b19f69d",
        "colab": {}
      },
      "source": [
        "'''\n",
        "    kernel : string, optional (default='rbf')\n",
        " |      Specifies the kernel type to be used in the algorithm.\n",
        " |      It must be one of 'linear', 'poly', 'rbf', 'sigmoid', 'precomputed' or\n",
        " |      a callable.\n",
        " |      If none is given, 'rbf' will be used. If a callable is given it is\n",
        " |      used to pre-compute the kernel matrix from data matrices; that matrix\n",
        " |      should be an array of shape ``(n_samples, n_samples)``.\n",
        " |  \n",
        " |  degree : int, optional (default=3)\n",
        " |      Degree of the polynomial kernel function ('poly').\n",
        " |      Ignored by all other kernels.\n",
        " \n",
        " '''"
      ],
      "execution_count": 0,
      "outputs": [
        {
          "output_type": "execute_result",
          "data": {
            "text/plain": [
              "\"\\n    kernel : string, optional (default='rbf')\\n |      Specifies the kernel type to be used in the algorithm.\\n |      It must be one of 'linear', 'poly', 'rbf', 'sigmoid', 'precomputed' or\\n |      a callable.\\n |      If none is given, 'rbf' will be used. If a callable is given it is\\n |      used to pre-compute the kernel matrix from data matrices; that matrix\\n |      should be an array of shape ``(n_samples, n_samples)``.\\n |  \\n |  degree : int, optional (default=3)\\n |      Degree of the polynomial kernel function ('poly').\\n |      Ignored by all other kernels.\\n \\n \""
            ]
          },
          "metadata": {
            "tags": []
          },
          "execution_count": 33
        }
      ]
    },
    {
      "cell_type": "code",
      "metadata": {
        "id": "xk1OcYpLUJc3",
        "colab_type": "code",
        "colab": {}
      },
      "source": [
        ""
      ],
      "execution_count": 0,
      "outputs": []
    },
    {
      "cell_type": "markdown",
      "metadata": {
        "id": "CxmOIui_UJc5",
        "colab_type": "text"
      },
      "source": [
        "#### With Linear Kernel"
      ]
    },
    {
      "cell_type": "code",
      "metadata": {
        "id": "2m7ihCkXUJc5",
        "colab_type": "code",
        "colab": {}
      },
      "source": [
        "svc = svm.SVC(kernel = 'linear')\n",
        "scores_linear = []  "
      ],
      "execution_count": 0,
      "outputs": []
    },
    {
      "cell_type": "code",
      "metadata": {
        "id": "KbDv1I6JUJc_",
        "colab_type": "code",
        "colab": {}
      },
      "source": [
        "svc_1 = svc.fit(year_1_sans_target, year_1_target)\n",
        "scores_linear[0] = svc1.score(year_1_test_sans_target, year_1_test_target)\n",
        "print scores_linear[0]"
      ],
      "execution_count": 0,
      "outputs": []
    },
    {
      "cell_type": "markdown",
      "metadata": {
        "id": "OdzQSLjpUJdE",
        "colab_type": "text"
      },
      "source": [
        "#### With Polynomial Kernel"
      ]
    },
    {
      "cell_type": "code",
      "metadata": {
        "id": "4OtgeL5pUJdF",
        "colab_type": "code",
        "colab": {}
      },
      "source": [
        "degrees = [2,3,4]"
      ],
      "execution_count": 0,
      "outputs": []
    },
    {
      "cell_type": "code",
      "metadata": {
        "id": "WWBrbWnNUJdH",
        "colab_type": "code",
        "colab": {}
      },
      "source": [
        "for d in degrees:\n",
        "    svc = svm.SVC(kernel = 'poly', degrees = d)\n",
        "    svc_1 = svc.fit(year_1_sans_target, year_1_target)\n",
        "    scores_poly = svc1.score(year_1_test_sans_target, year_1_test_target)\n",
        "    print 'degree: ', d, ' score: ', scores_poly"
      ],
      "execution_count": 0,
      "outputs": []
    }
  ]
}